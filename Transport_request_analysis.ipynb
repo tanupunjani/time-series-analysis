{
  "nbformat": 4,
  "nbformat_minor": 0,
  "metadata": {
    "colab": {
      "name": "Transport-request-analysis.ipynb",
      "provenance": []
    },
    "kernelspec": {
      "name": "python3",
      "display_name": "Python 3"
    },
    "language_info": {
      "name": "python"
    }
  },
  "cells": [
    {
      "cell_type": "markdown",
      "source": [
        "# Time series analysis of the clincal Transport request.\n",
        "We are given a dataset representing an information about all the hospital equipment requests made.\n",
        "\n",
        "Moreover, it also provides information about the status of those requests at differnt time intervals. Lets explore the dataset and find out key insights from it."
      ],
      "metadata": {
        "id": "MRbEiISyPveA"
      }
    },
    {
      "cell_type": "markdown",
      "source": [
        "## Description of the variables in the dataset\n",
        "\n",
        "1. **Transport Name** : Name of the equipments bring transported or requested to transport\n",
        "2. **Requesting_Dept** : Name of the department requesting the equipments.\n",
        "3. **Requested_DTTM** : Date and time of the equipment being requested. \n",
        "4. **Assigned_DTTM** : Date and time of the request being assigned. \n",
        "5. **Acknowledged_DTTM** : Date and time of the request being acknowledged.\n",
        "6. **InProgress_DTTM** : Date and time of the request being in progress.\n",
        "7. **Completion_DTTM** : Date and time of the request being completed.\n",
        "8. **Cancellation_DTTM** : Date and time of the request being cancelled.\n",
        "9. **Postponed_DTTM** : Date and time of the request being postponed."
      ],
      "metadata": {
        "id": "I6rInnU6Q4_l"
      }
    },
    {
      "cell_type": "markdown",
      "source": [
        "# Lets start by importing all the necessary libraries that will need for data exploration, analysis and visualization of the data."
      ],
      "metadata": {
        "id": "dnb8RqSLQgXa"
      }
    },
    {
      "cell_type": "markdown",
      "source": [
        "### Import the libraries"
      ],
      "metadata": {
        "id": "SiQk9Ta8pggI"
      }
    },
    {
      "cell_type": "code",
      "source": [
        "import pandas as pd\n",
        "import time\n",
        "import numpy as np\n",
        "import matplotlib.pyplot as plt\n",
        "import seaborn as sns\n",
        "from datetime import time, timedelta \n",
        "import datetime, warnings, scipy \n",
        "warnings.filterwarnings('ignore')\n",
        "\n",
        "from sklearn.model_selection import train_test_split\n",
        "from sklearn.metrics import classification_report\n",
        "from sklearn.metrics import confusion_matrix\n",
        "from sklearn.metrics import accuracy_score, f1_score,precision_score\n",
        "from sklearn.ensemble import RandomForestClassifier\n",
        "from sklearn.model_selection import train_test_split\n",
        "from sklearn.metrics import classification_report\n",
        "from sklearn.metrics import confusion_matrix\n",
        "from sklearn.metrics import accuracy_score,f1_score,precision_score\n",
        "\n",
        "from sklearn import tree"
      ],
      "metadata": {
        "id": "rLPe7v3tplz9"
      },
      "execution_count": 1,
      "outputs": []
    },
    {
      "cell_type": "markdown",
      "source": [
        "### Read the data"
      ],
      "metadata": {
        "id": "0otV8n-wpq9A"
      }
    },
    {
      "cell_type": "code",
      "source": [
        "df = pd.read_excel('/content/dataset.xlsx')\n",
        "df.head()"
      ],
      "metadata": {
        "colab": {
          "base_uri": "https://localhost:8080/",
          "height": 206
        },
        "id": "VdiweMqUp6gP",
        "outputId": "0c196200-4c93-4cd5-e98f-9a00eb2becff"
      },
      "execution_count": 2,
      "outputs": [
        {
          "output_type": "execute_result",
          "data": {
            "text/plain": [
              "  Transport_Name Requesting_Dept      Requested_DTTM       Assigned_DTTM  \\\n",
              "0      Blood gas           2 BIR 2019-01-01 00:02:32                 NaT   \n",
              "1      Blood gas           2 BIR 2019-01-01 00:14:40 2019-01-01 00:17:08   \n",
              "2      Blood gas           2 BIR 2019-01-01 00:28:07 2019-01-01 00:28:07   \n",
              "3          Other           1 EME 2019-01-01 03:57:12 2019-01-01 03:57:12   \n",
              "4      Blood gas           2 BIR 2019-01-01 04:55:02 2019-01-01 06:19:30   \n",
              "\n",
              "    Acknowledged_DTTM     InProgress_DTTM     Completion_DTTM  \\\n",
              "0                 NaT 2019-01-01 00:02:32 2019-01-01 00:02:36   \n",
              "1 2019-01-01 00:17:11 2019-01-01 00:22:27 2019-01-01 00:23:24   \n",
              "2 2019-01-01 00:28:25 2019-01-01 00:28:33 2019-01-01 00:40:08   \n",
              "3 2019-01-01 03:57:26 2019-01-01 03:59:58 2019-01-01 04:01:44   \n",
              "4 2019-01-01 06:19:46 2019-01-01 06:20:58 2019-01-01 06:33:57   \n",
              "\n",
              "  Cancellation_DTTM Postponed_DTTM  \n",
              "0               NaT            NaT  \n",
              "1               NaT            NaT  \n",
              "2               NaT            NaT  \n",
              "3               NaT            NaT  \n",
              "4               NaT            NaT  "
            ],
            "text/html": [
              "\n",
              "  <div id=\"df-788d294a-16f3-42ef-99e5-57cb9c38071d\">\n",
              "    <div class=\"colab-df-container\">\n",
              "      <div>\n",
              "<style scoped>\n",
              "    .dataframe tbody tr th:only-of-type {\n",
              "        vertical-align: middle;\n",
              "    }\n",
              "\n",
              "    .dataframe tbody tr th {\n",
              "        vertical-align: top;\n",
              "    }\n",
              "\n",
              "    .dataframe thead th {\n",
              "        text-align: right;\n",
              "    }\n",
              "</style>\n",
              "<table border=\"1\" class=\"dataframe\">\n",
              "  <thead>\n",
              "    <tr style=\"text-align: right;\">\n",
              "      <th></th>\n",
              "      <th>Transport_Name</th>\n",
              "      <th>Requesting_Dept</th>\n",
              "      <th>Requested_DTTM</th>\n",
              "      <th>Assigned_DTTM</th>\n",
              "      <th>Acknowledged_DTTM</th>\n",
              "      <th>InProgress_DTTM</th>\n",
              "      <th>Completion_DTTM</th>\n",
              "      <th>Cancellation_DTTM</th>\n",
              "      <th>Postponed_DTTM</th>\n",
              "    </tr>\n",
              "  </thead>\n",
              "  <tbody>\n",
              "    <tr>\n",
              "      <th>0</th>\n",
              "      <td>Blood gas</td>\n",
              "      <td>2 BIR</td>\n",
              "      <td>2019-01-01 00:02:32</td>\n",
              "      <td>NaT</td>\n",
              "      <td>NaT</td>\n",
              "      <td>2019-01-01 00:02:32</td>\n",
              "      <td>2019-01-01 00:02:36</td>\n",
              "      <td>NaT</td>\n",
              "      <td>NaT</td>\n",
              "    </tr>\n",
              "    <tr>\n",
              "      <th>1</th>\n",
              "      <td>Blood gas</td>\n",
              "      <td>2 BIR</td>\n",
              "      <td>2019-01-01 00:14:40</td>\n",
              "      <td>2019-01-01 00:17:08</td>\n",
              "      <td>2019-01-01 00:17:11</td>\n",
              "      <td>2019-01-01 00:22:27</td>\n",
              "      <td>2019-01-01 00:23:24</td>\n",
              "      <td>NaT</td>\n",
              "      <td>NaT</td>\n",
              "    </tr>\n",
              "    <tr>\n",
              "      <th>2</th>\n",
              "      <td>Blood gas</td>\n",
              "      <td>2 BIR</td>\n",
              "      <td>2019-01-01 00:28:07</td>\n",
              "      <td>2019-01-01 00:28:07</td>\n",
              "      <td>2019-01-01 00:28:25</td>\n",
              "      <td>2019-01-01 00:28:33</td>\n",
              "      <td>2019-01-01 00:40:08</td>\n",
              "      <td>NaT</td>\n",
              "      <td>NaT</td>\n",
              "    </tr>\n",
              "    <tr>\n",
              "      <th>3</th>\n",
              "      <td>Other</td>\n",
              "      <td>1 EME</td>\n",
              "      <td>2019-01-01 03:57:12</td>\n",
              "      <td>2019-01-01 03:57:12</td>\n",
              "      <td>2019-01-01 03:57:26</td>\n",
              "      <td>2019-01-01 03:59:58</td>\n",
              "      <td>2019-01-01 04:01:44</td>\n",
              "      <td>NaT</td>\n",
              "      <td>NaT</td>\n",
              "    </tr>\n",
              "    <tr>\n",
              "      <th>4</th>\n",
              "      <td>Blood gas</td>\n",
              "      <td>2 BIR</td>\n",
              "      <td>2019-01-01 04:55:02</td>\n",
              "      <td>2019-01-01 06:19:30</td>\n",
              "      <td>2019-01-01 06:19:46</td>\n",
              "      <td>2019-01-01 06:20:58</td>\n",
              "      <td>2019-01-01 06:33:57</td>\n",
              "      <td>NaT</td>\n",
              "      <td>NaT</td>\n",
              "    </tr>\n",
              "  </tbody>\n",
              "</table>\n",
              "</div>\n",
              "      <button class=\"colab-df-convert\" onclick=\"convertToInteractive('df-788d294a-16f3-42ef-99e5-57cb9c38071d')\"\n",
              "              title=\"Convert this dataframe to an interactive table.\"\n",
              "              style=\"display:none;\">\n",
              "        \n",
              "  <svg xmlns=\"http://www.w3.org/2000/svg\" height=\"24px\"viewBox=\"0 0 24 24\"\n",
              "       width=\"24px\">\n",
              "    <path d=\"M0 0h24v24H0V0z\" fill=\"none\"/>\n",
              "    <path d=\"M18.56 5.44l.94 2.06.94-2.06 2.06-.94-2.06-.94-.94-2.06-.94 2.06-2.06.94zm-11 1L8.5 8.5l.94-2.06 2.06-.94-2.06-.94L8.5 2.5l-.94 2.06-2.06.94zm10 10l.94 2.06.94-2.06 2.06-.94-2.06-.94-.94-2.06-.94 2.06-2.06.94z\"/><path d=\"M17.41 7.96l-1.37-1.37c-.4-.4-.92-.59-1.43-.59-.52 0-1.04.2-1.43.59L10.3 9.45l-7.72 7.72c-.78.78-.78 2.05 0 2.83L4 21.41c.39.39.9.59 1.41.59.51 0 1.02-.2 1.41-.59l7.78-7.78 2.81-2.81c.8-.78.8-2.07 0-2.86zM5.41 20L4 18.59l7.72-7.72 1.47 1.35L5.41 20z\"/>\n",
              "  </svg>\n",
              "      </button>\n",
              "      \n",
              "  <style>\n",
              "    .colab-df-container {\n",
              "      display:flex;\n",
              "      flex-wrap:wrap;\n",
              "      gap: 12px;\n",
              "    }\n",
              "\n",
              "    .colab-df-convert {\n",
              "      background-color: #E8F0FE;\n",
              "      border: none;\n",
              "      border-radius: 50%;\n",
              "      cursor: pointer;\n",
              "      display: none;\n",
              "      fill: #1967D2;\n",
              "      height: 32px;\n",
              "      padding: 0 0 0 0;\n",
              "      width: 32px;\n",
              "    }\n",
              "\n",
              "    .colab-df-convert:hover {\n",
              "      background-color: #E2EBFA;\n",
              "      box-shadow: 0px 1px 2px rgba(60, 64, 67, 0.3), 0px 1px 3px 1px rgba(60, 64, 67, 0.15);\n",
              "      fill: #174EA6;\n",
              "    }\n",
              "\n",
              "    [theme=dark] .colab-df-convert {\n",
              "      background-color: #3B4455;\n",
              "      fill: #D2E3FC;\n",
              "    }\n",
              "\n",
              "    [theme=dark] .colab-df-convert:hover {\n",
              "      background-color: #434B5C;\n",
              "      box-shadow: 0px 1px 3px 1px rgba(0, 0, 0, 0.15);\n",
              "      filter: drop-shadow(0px 1px 2px rgba(0, 0, 0, 0.3));\n",
              "      fill: #FFFFFF;\n",
              "    }\n",
              "  </style>\n",
              "\n",
              "      <script>\n",
              "        const buttonEl =\n",
              "          document.querySelector('#df-788d294a-16f3-42ef-99e5-57cb9c38071d button.colab-df-convert');\n",
              "        buttonEl.style.display =\n",
              "          google.colab.kernel.accessAllowed ? 'block' : 'none';\n",
              "\n",
              "        async function convertToInteractive(key) {\n",
              "          const element = document.querySelector('#df-788d294a-16f3-42ef-99e5-57cb9c38071d');\n",
              "          const dataTable =\n",
              "            await google.colab.kernel.invokeFunction('convertToInteractive',\n",
              "                                                     [key], {});\n",
              "          if (!dataTable) return;\n",
              "\n",
              "          const docLinkHtml = 'Like what you see? Visit the ' +\n",
              "            '<a target=\"_blank\" href=https://colab.research.google.com/notebooks/data_table.ipynb>data table notebook</a>'\n",
              "            + ' to learn more about interactive tables.';\n",
              "          element.innerHTML = '';\n",
              "          dataTable['output_type'] = 'display_data';\n",
              "          await google.colab.output.renderOutput(dataTable, element);\n",
              "          const docLink = document.createElement('div');\n",
              "          docLink.innerHTML = docLinkHtml;\n",
              "          element.appendChild(docLink);\n",
              "        }\n",
              "      </script>\n",
              "    </div>\n",
              "  </div>\n",
              "  "
            ]
          },
          "metadata": {},
          "execution_count": 2
        }
      ]
    },
    {
      "cell_type": "markdown",
      "source": [
        "# Explanatory Data Analysis\n",
        "Before creating the model, I will perform some explanatory data visualization to get some insights on the data. "
      ],
      "metadata": {
        "id": "uqqjE7SzqKHV"
      }
    },
    {
      "cell_type": "markdown",
      "source": [
        "### Check total rows and columns in the dataset"
      ],
      "metadata": {
        "id": "hPM_VFgKq9_G"
      }
    },
    {
      "cell_type": "code",
      "source": [
        "df.shape"
      ],
      "metadata": {
        "colab": {
          "base_uri": "https://localhost:8080/"
        },
        "id": "Y3woGAsTrDWL",
        "outputId": "e18f6235-cc78-436e-b738-fb39b86b506f"
      },
      "execution_count": 3,
      "outputs": [
        {
          "output_type": "execute_result",
          "data": {
            "text/plain": [
              "(21163, 9)"
            ]
          },
          "metadata": {},
          "execution_count": 3
        }
      ]
    },
    {
      "cell_type": "markdown",
      "source": [
        "### Check the column names"
      ],
      "metadata": {
        "id": "uIEoAncbrEac"
      }
    },
    {
      "cell_type": "code",
      "source": [
        "df.columns"
      ],
      "metadata": {
        "colab": {
          "base_uri": "https://localhost:8080/"
        },
        "id": "eKiWp2bIrINp",
        "outputId": "6dc3dbc3-1b34-43b1-a628-cb920226d2d0"
      },
      "execution_count": 4,
      "outputs": [
        {
          "output_type": "execute_result",
          "data": {
            "text/plain": [
              "Index(['Transport_Name', 'Requesting_Dept', 'Requested_DTTM', 'Assigned_DTTM',\n",
              "       'Acknowledged_DTTM', 'InProgress_DTTM', 'Completion_DTTM',\n",
              "       'Cancellation_DTTM', 'Postponed_DTTM'],\n",
              "      dtype='object')"
            ]
          },
          "metadata": {},
          "execution_count": 4
        }
      ]
    },
    {
      "cell_type": "markdown",
      "source": [
        "# Check the dataypes of the columns "
      ],
      "metadata": {
        "id": "OEHJvYRmrJUB"
      }
    },
    {
      "cell_type": "code",
      "source": [
        "df.info()"
      ],
      "metadata": {
        "colab": {
          "base_uri": "https://localhost:8080/"
        },
        "id": "tQMBtdBzrfk2",
        "outputId": "b34a6cd2-7502-4a0f-e45f-d3636c9346f3"
      },
      "execution_count": 5,
      "outputs": [
        {
          "output_type": "stream",
          "name": "stdout",
          "text": [
            "<class 'pandas.core.frame.DataFrame'>\n",
            "RangeIndex: 21163 entries, 0 to 21162\n",
            "Data columns (total 9 columns):\n",
            " #   Column             Non-Null Count  Dtype         \n",
            "---  ------             --------------  -----         \n",
            " 0   Transport_Name     21163 non-null  object        \n",
            " 1   Requesting_Dept    21163 non-null  object        \n",
            " 2   Requested_DTTM     21163 non-null  datetime64[ns]\n",
            " 3   Assigned_DTTM      20526 non-null  datetime64[ns]\n",
            " 4   Acknowledged_DTTM  20393 non-null  datetime64[ns]\n",
            " 5   InProgress_DTTM    19759 non-null  datetime64[ns]\n",
            " 6   Completion_DTTM    19697 non-null  datetime64[ns]\n",
            " 7   Cancellation_DTTM  1466 non-null   datetime64[ns]\n",
            " 8   Postponed_DTTM     3365 non-null   datetime64[ns]\n",
            "dtypes: datetime64[ns](7), object(2)\n",
            "memory usage: 1.5+ MB\n"
          ]
        }
      ]
    },
    {
      "cell_type": "markdown",
      "source": [
        "# Check for missing data"
      ],
      "metadata": {
        "id": "ejgXv2BVwLyT"
      }
    },
    {
      "cell_type": "code",
      "source": [
        "df.isna().sum()"
      ],
      "metadata": {
        "colab": {
          "base_uri": "https://localhost:8080/"
        },
        "id": "LPkajhgDwQDy",
        "outputId": "6f46c5ed-7f79-417e-c9cd-f5621b31d3d2"
      },
      "execution_count": 6,
      "outputs": [
        {
          "output_type": "execute_result",
          "data": {
            "text/plain": [
              "Transport_Name           0\n",
              "Requesting_Dept          0\n",
              "Requested_DTTM           0\n",
              "Assigned_DTTM          637\n",
              "Acknowledged_DTTM      770\n",
              "InProgress_DTTM       1404\n",
              "Completion_DTTM       1466\n",
              "Cancellation_DTTM    19697\n",
              "Postponed_DTTM       17798\n",
              "dtype: int64"
            ]
          },
          "metadata": {},
          "execution_count": 6
        }
      ]
    },
    {
      "cell_type": "markdown",
      "source": [
        "### Here we can see that our data is having missing values. But because these statuses are connected to each other, the data is not really missing. For example, if there is any request which is completed, the cancellation column will be empty. \n",
        "\n",
        "### Likewise, if the request is completed as soon as its assigned, then the in_progress column will have no value. Therefore, when we perform feature engineering, these values will be taken care of. Lets continue to explore until then."
      ],
      "metadata": {
        "id": "sHEeirhiq9Ey"
      }
    },
    {
      "cell_type": "markdown",
      "source": [
        "# Check the statistical distrubution of the columns"
      ],
      "metadata": {
        "id": "ozGlYJxQwS6-"
      }
    },
    {
      "cell_type": "code",
      "source": [
        "df.describe()"
      ],
      "metadata": {
        "colab": {
          "base_uri": "https://localhost:8080/",
          "height": 237
        },
        "id": "Q36U-MfcwmPD",
        "outputId": "ff0879b4-d766-4930-f0d5-f8bbbd660f8d"
      },
      "execution_count": 7,
      "outputs": [
        {
          "output_type": "execute_result",
          "data": {
            "text/plain": [
              "       Transport_Name Requesting_Dept       Requested_DTTM  \\\n",
              "count           21163           21163                21163   \n",
              "unique             10              26                21157   \n",
              "top             Linen           2 BIR  2019-12-04 20:04:32   \n",
              "freq             6129            4412                    2   \n",
              "first             NaN             NaN  2019-01-01 00:02:32   \n",
              "last              NaN             NaN  2019-12-31 23:37:59   \n",
              "\n",
              "              Assigned_DTTM    Acknowledged_DTTM      InProgress_DTTM  \\\n",
              "count                 20526                20393                19759   \n",
              "unique                20424                20314                19721   \n",
              "top     2019-12-27 09:05:37  2019-12-27 09:06:02  2019-10-09 13:09:44   \n",
              "freq                      4                    4                    3   \n",
              "first   2019-01-01 00:17:08  2019-01-01 00:17:11  2019-01-01 00:02:32   \n",
              "last    2019-12-31 23:39:28  2019-12-31 23:39:29  2019-12-31 23:46:46   \n",
              "\n",
              "            Completion_DTTM    Cancellation_DTTM       Postponed_DTTM  \n",
              "count                 19697                 1466                 3365  \n",
              "unique                19638                 1466                 3363  \n",
              "top     2019-12-17 08:19:58  2019-01-01 15:27:02  2019-12-27 11:41:07  \n",
              "freq                      3                    1                    3  \n",
              "first   2019-01-01 00:02:36  2019-01-01 15:27:02  2019-01-01 08:41:30  \n",
              "last    2019-12-31 23:49:59  2019-12-31 15:41:31  2019-12-31 21:40:54  "
            ],
            "text/html": [
              "\n",
              "  <div id=\"df-75afa397-c105-466f-ba2f-f363e0bdd859\">\n",
              "    <div class=\"colab-df-container\">\n",
              "      <div>\n",
              "<style scoped>\n",
              "    .dataframe tbody tr th:only-of-type {\n",
              "        vertical-align: middle;\n",
              "    }\n",
              "\n",
              "    .dataframe tbody tr th {\n",
              "        vertical-align: top;\n",
              "    }\n",
              "\n",
              "    .dataframe thead th {\n",
              "        text-align: right;\n",
              "    }\n",
              "</style>\n",
              "<table border=\"1\" class=\"dataframe\">\n",
              "  <thead>\n",
              "    <tr style=\"text-align: right;\">\n",
              "      <th></th>\n",
              "      <th>Transport_Name</th>\n",
              "      <th>Requesting_Dept</th>\n",
              "      <th>Requested_DTTM</th>\n",
              "      <th>Assigned_DTTM</th>\n",
              "      <th>Acknowledged_DTTM</th>\n",
              "      <th>InProgress_DTTM</th>\n",
              "      <th>Completion_DTTM</th>\n",
              "      <th>Cancellation_DTTM</th>\n",
              "      <th>Postponed_DTTM</th>\n",
              "    </tr>\n",
              "  </thead>\n",
              "  <tbody>\n",
              "    <tr>\n",
              "      <th>count</th>\n",
              "      <td>21163</td>\n",
              "      <td>21163</td>\n",
              "      <td>21163</td>\n",
              "      <td>20526</td>\n",
              "      <td>20393</td>\n",
              "      <td>19759</td>\n",
              "      <td>19697</td>\n",
              "      <td>1466</td>\n",
              "      <td>3365</td>\n",
              "    </tr>\n",
              "    <tr>\n",
              "      <th>unique</th>\n",
              "      <td>10</td>\n",
              "      <td>26</td>\n",
              "      <td>21157</td>\n",
              "      <td>20424</td>\n",
              "      <td>20314</td>\n",
              "      <td>19721</td>\n",
              "      <td>19638</td>\n",
              "      <td>1466</td>\n",
              "      <td>3363</td>\n",
              "    </tr>\n",
              "    <tr>\n",
              "      <th>top</th>\n",
              "      <td>Linen</td>\n",
              "      <td>2 BIR</td>\n",
              "      <td>2019-12-04 20:04:32</td>\n",
              "      <td>2019-12-27 09:05:37</td>\n",
              "      <td>2019-12-27 09:06:02</td>\n",
              "      <td>2019-10-09 13:09:44</td>\n",
              "      <td>2019-12-17 08:19:58</td>\n",
              "      <td>2019-01-01 15:27:02</td>\n",
              "      <td>2019-12-27 11:41:07</td>\n",
              "    </tr>\n",
              "    <tr>\n",
              "      <th>freq</th>\n",
              "      <td>6129</td>\n",
              "      <td>4412</td>\n",
              "      <td>2</td>\n",
              "      <td>4</td>\n",
              "      <td>4</td>\n",
              "      <td>3</td>\n",
              "      <td>3</td>\n",
              "      <td>1</td>\n",
              "      <td>3</td>\n",
              "    </tr>\n",
              "    <tr>\n",
              "      <th>first</th>\n",
              "      <td>NaN</td>\n",
              "      <td>NaN</td>\n",
              "      <td>2019-01-01 00:02:32</td>\n",
              "      <td>2019-01-01 00:17:08</td>\n",
              "      <td>2019-01-01 00:17:11</td>\n",
              "      <td>2019-01-01 00:02:32</td>\n",
              "      <td>2019-01-01 00:02:36</td>\n",
              "      <td>2019-01-01 15:27:02</td>\n",
              "      <td>2019-01-01 08:41:30</td>\n",
              "    </tr>\n",
              "    <tr>\n",
              "      <th>last</th>\n",
              "      <td>NaN</td>\n",
              "      <td>NaN</td>\n",
              "      <td>2019-12-31 23:37:59</td>\n",
              "      <td>2019-12-31 23:39:28</td>\n",
              "      <td>2019-12-31 23:39:29</td>\n",
              "      <td>2019-12-31 23:46:46</td>\n",
              "      <td>2019-12-31 23:49:59</td>\n",
              "      <td>2019-12-31 15:41:31</td>\n",
              "      <td>2019-12-31 21:40:54</td>\n",
              "    </tr>\n",
              "  </tbody>\n",
              "</table>\n",
              "</div>\n",
              "      <button class=\"colab-df-convert\" onclick=\"convertToInteractive('df-75afa397-c105-466f-ba2f-f363e0bdd859')\"\n",
              "              title=\"Convert this dataframe to an interactive table.\"\n",
              "              style=\"display:none;\">\n",
              "        \n",
              "  <svg xmlns=\"http://www.w3.org/2000/svg\" height=\"24px\"viewBox=\"0 0 24 24\"\n",
              "       width=\"24px\">\n",
              "    <path d=\"M0 0h24v24H0V0z\" fill=\"none\"/>\n",
              "    <path d=\"M18.56 5.44l.94 2.06.94-2.06 2.06-.94-2.06-.94-.94-2.06-.94 2.06-2.06.94zm-11 1L8.5 8.5l.94-2.06 2.06-.94-2.06-.94L8.5 2.5l-.94 2.06-2.06.94zm10 10l.94 2.06.94-2.06 2.06-.94-2.06-.94-.94-2.06-.94 2.06-2.06.94z\"/><path d=\"M17.41 7.96l-1.37-1.37c-.4-.4-.92-.59-1.43-.59-.52 0-1.04.2-1.43.59L10.3 9.45l-7.72 7.72c-.78.78-.78 2.05 0 2.83L4 21.41c.39.39.9.59 1.41.59.51 0 1.02-.2 1.41-.59l7.78-7.78 2.81-2.81c.8-.78.8-2.07 0-2.86zM5.41 20L4 18.59l7.72-7.72 1.47 1.35L5.41 20z\"/>\n",
              "  </svg>\n",
              "      </button>\n",
              "      \n",
              "  <style>\n",
              "    .colab-df-container {\n",
              "      display:flex;\n",
              "      flex-wrap:wrap;\n",
              "      gap: 12px;\n",
              "    }\n",
              "\n",
              "    .colab-df-convert {\n",
              "      background-color: #E8F0FE;\n",
              "      border: none;\n",
              "      border-radius: 50%;\n",
              "      cursor: pointer;\n",
              "      display: none;\n",
              "      fill: #1967D2;\n",
              "      height: 32px;\n",
              "      padding: 0 0 0 0;\n",
              "      width: 32px;\n",
              "    }\n",
              "\n",
              "    .colab-df-convert:hover {\n",
              "      background-color: #E2EBFA;\n",
              "      box-shadow: 0px 1px 2px rgba(60, 64, 67, 0.3), 0px 1px 3px 1px rgba(60, 64, 67, 0.15);\n",
              "      fill: #174EA6;\n",
              "    }\n",
              "\n",
              "    [theme=dark] .colab-df-convert {\n",
              "      background-color: #3B4455;\n",
              "      fill: #D2E3FC;\n",
              "    }\n",
              "\n",
              "    [theme=dark] .colab-df-convert:hover {\n",
              "      background-color: #434B5C;\n",
              "      box-shadow: 0px 1px 3px 1px rgba(0, 0, 0, 0.15);\n",
              "      filter: drop-shadow(0px 1px 2px rgba(0, 0, 0, 0.3));\n",
              "      fill: #FFFFFF;\n",
              "    }\n",
              "  </style>\n",
              "\n",
              "      <script>\n",
              "        const buttonEl =\n",
              "          document.querySelector('#df-75afa397-c105-466f-ba2f-f363e0bdd859 button.colab-df-convert');\n",
              "        buttonEl.style.display =\n",
              "          google.colab.kernel.accessAllowed ? 'block' : 'none';\n",
              "\n",
              "        async function convertToInteractive(key) {\n",
              "          const element = document.querySelector('#df-75afa397-c105-466f-ba2f-f363e0bdd859');\n",
              "          const dataTable =\n",
              "            await google.colab.kernel.invokeFunction('convertToInteractive',\n",
              "                                                     [key], {});\n",
              "          if (!dataTable) return;\n",
              "\n",
              "          const docLinkHtml = 'Like what you see? Visit the ' +\n",
              "            '<a target=\"_blank\" href=https://colab.research.google.com/notebooks/data_table.ipynb>data table notebook</a>'\n",
              "            + ' to learn more about interactive tables.';\n",
              "          element.innerHTML = '';\n",
              "          dataTable['output_type'] = 'display_data';\n",
              "          await google.colab.output.renderOutput(dataTable, element);\n",
              "          const docLink = document.createElement('div');\n",
              "          docLink.innerHTML = docLinkHtml;\n",
              "          element.appendChild(docLink);\n",
              "        }\n",
              "      </script>\n",
              "    </div>\n",
              "  </div>\n",
              "  "
            ]
          },
          "metadata": {},
          "execution_count": 7
        }
      ]
    },
    {
      "cell_type": "markdown",
      "source": [
        "# Now that we have seen the statistical distribution of the dataset, lets see how uniqure our records are. "
      ],
      "metadata": {
        "id": "fgLnkVkH4o4H"
      }
    },
    {
      "cell_type": "markdown",
      "source": [
        "# Check the uniqueness of the features"
      ],
      "metadata": {
        "id": "FmPhZUlu457U"
      }
    },
    {
      "cell_type": "code",
      "source": [
        "df['Transport_Name'].value_counts()"
      ],
      "metadata": {
        "colab": {
          "base_uri": "https://localhost:8080/"
        },
        "id": "pd-fMcMPfUnU",
        "outputId": "d93d8490-bbc3-4d78-88de-308ed9c41a63"
      },
      "execution_count": 8,
      "outputs": [
        {
          "output_type": "execute_result",
          "data": {
            "text/plain": [
              "Linen                            6129\n",
              "Other                            3703\n",
              "Blood gas                        3280\n",
              "Bed Collection                   2474\n",
              "Specimen Collection              2128\n",
              "Equipment Pickup (Non OR/MDR)    1539\n",
              "MDR Collection                   1062\n",
              "Blood product                     709\n",
              "02 Tank/02 Tank Collection        124\n",
              "Visitor Pickup                     15\n",
              "Name: Transport_Name, dtype: int64"
            ]
          },
          "metadata": {},
          "execution_count": 8
        }
      ]
    },
    {
      "cell_type": "code",
      "source": [
        "df['Requesting_Dept'].value_counts()"
      ],
      "metadata": {
        "colab": {
          "base_uri": "https://localhost:8080/"
        },
        "id": "sZ4jylN9faPv",
        "outputId": "ca23a354-8797-448e-a297-3d6fcadc48d0"
      },
      "execution_count": 9,
      "outputs": [
        {
          "output_type": "execute_result",
          "data": {
            "text/plain": [
              "2 BIR    4412\n",
              "1 EME    2189\n",
              "7 SUR    1828\n",
              "1 INT    1648\n",
              "6 GI     1119\n",
              "4BD C     989\n",
              "4 MED     961\n",
              "4MG C     924\n",
              "T7 NE     861\n",
              "T6 CT     816\n",
              "T4 CH     813\n",
              "T7 RE     583\n",
              "3 OBS     569\n",
              "T4 SU     507\n",
              "T9 AC     359\n",
              "PES S     350\n",
              "T5 CO     346\n",
              "5MG T     345\n",
              "T8 RE     312\n",
              "2 ALC     307\n",
              "T10 A     194\n",
              "3 SPE     193\n",
              "T4 HE     163\n",
              "T8 CO     148\n",
              "5MG M     135\n",
              "KIDNE      92\n",
              "Name: Requesting_Dept, dtype: int64"
            ]
          },
          "metadata": {},
          "execution_count": 9
        }
      ]
    },
    {
      "cell_type": "markdown",
      "source": [
        "# Feature engineering\n",
        "\n",
        "In order to make our data visualization easy, lets seperate our date and time columns"
      ],
      "metadata": {
        "id": "x-LW8sQwffEX"
      }
    },
    {
      "cell_type": "markdown",
      "source": [
        "# Requested Time column"
      ],
      "metadata": {
        "id": "lARQnZrtApcd"
      }
    },
    {
      "cell_type": "code",
      "source": [
        "df['Requested_Time'] = pd.to_datetime(df[\"Requested_DTTM\"])\n",
        "df['Requested_Time_hour'] = df['Requested_Time'].dt.hour\n",
        "df['Requested_Time_minute'] = df['Requested_Time'].dt.minute\n",
        "df['Requested_Time_second'] = df['Requested_Time'].dt.second\n",
        "df['Requested_Time'] = df['Requested_Time_hour']*60*60 + df['Requested_Time_minute']*60 + df['Requested_Time_second']\n",
        "df = df.drop(['Requested_Time_hour', 'Requested_Time_minute','Requested_Time_second'], axis = 1)"
      ],
      "metadata": {
        "id": "UmnNhg3xf5FA"
      },
      "execution_count": 10,
      "outputs": []
    },
    {
      "cell_type": "markdown",
      "source": [
        "# Postponed_DTTM column"
      ],
      "metadata": {
        "id": "MkIutS5ulFrU"
      }
    },
    {
      "cell_type": "code",
      "source": [
        "df['Postponed_DTTM'] = df['Postponed_DTTM'].fillna(0)\n",
        "df['Postponed_Time'] = pd.to_datetime(df[\"Postponed_DTTM\"], errors='coerce')\n",
        "df['Postponed_Time_hour'] = df['Postponed_Time'].dt.hour\n",
        "df['Postponed_Time_minute'] = df['Postponed_Time'].dt.minute\n",
        "df['Postponed_Time_second'] = df['Postponed_Time'].dt.second\n",
        "df['Postponed_Time'] = df['Postponed_Time_hour']*60*60 + df['Postponed_Time_minute']*60 + df['Postponed_Time_second']\n",
        "df['Postponed_Time'] = df['Postponed_Time'].fillna(0)\n",
        "df = df.drop(['Postponed_Time_hour', 'Postponed_Time_minute','Postponed_Time_second'], axis = 1)"
      ],
      "metadata": {
        "id": "P-9u8GWmAy5H"
      },
      "execution_count": 11,
      "outputs": []
    },
    {
      "cell_type": "markdown",
      "source": [
        "# Assigned DTTM column"
      ],
      "metadata": {
        "id": "OBxnghvaA5ER"
      }
    },
    {
      "cell_type": "code",
      "source": [
        "df['Assigned_DTTM'] = df['Assigned_DTTM'].fillna(0)\n",
        "df['Assigned_Time'] = pd.to_datetime(df[\"Assigned_DTTM\"], errors='coerce')\n",
        "df['Assigned_Time_hour'] = df['Assigned_Time'].dt.hour\n",
        "df['Assigned_Time_minute'] = df['Assigned_Time'].dt.minute\n",
        "df['Assigned_Time_second'] = df['Assigned_Time'].dt.second\n",
        "df['Assigned_Time'] = df['Assigned_Time_hour']*60*60 + df['Assigned_Time_minute']*60 + df['Assigned_Time_second']\n",
        "df['Assigned_Time'] = df['Assigned_Time'].fillna(0)\n",
        "df = df.drop(['Assigned_Time_hour', 'Assigned_Time_minute','Assigned_Time_second'], axis = 1)"
      ],
      "metadata": {
        "id": "gofr6qaWE4yV"
      },
      "execution_count": 12,
      "outputs": []
    },
    {
      "cell_type": "markdown",
      "source": [
        "# Acknowledged DTTM column"
      ],
      "metadata": {
        "id": "ecRcToIDJL93"
      }
    },
    {
      "cell_type": "code",
      "source": [
        "df['Acknowledged_DTTM'] = df['Acknowledged_DTTM'].fillna(0)\n",
        "df['Acknowledged_Time'] = pd.to_datetime(df[\"Acknowledged_DTTM\"], errors='coerce')\n",
        "df['Acknowledged_Time_hour'] = df['Acknowledged_Time'].dt.hour\n",
        "df['Acknowledged_Time_minute'] = df['Acknowledged_Time'].dt.minute\n",
        "df['Acknowledged_Time_second'] = df['Acknowledged_Time'].dt.second\n",
        "df['Acknowledged_Time'] = df['Acknowledged_Time_hour']*60*60 + df['Acknowledged_Time_minute']*60 + df['Acknowledged_Time_second']\n",
        "df['Acknowledged_Time'] = df['Acknowledged_Time'].fillna(0)\n",
        "df = df.drop(['Acknowledged_Time_hour', 'Acknowledged_Time_minute','Acknowledged_Time_second'], axis = 1)"
      ],
      "metadata": {
        "id": "-e4ixRw6JSle"
      },
      "execution_count": 13,
      "outputs": []
    },
    {
      "cell_type": "markdown",
      "source": [
        "# In progress DTTM"
      ],
      "metadata": {
        "id": "-PVykRzbJapP"
      }
    },
    {
      "cell_type": "code",
      "source": [
        "df['InProgress_DTTM'] = df['InProgress_DTTM'].fillna(0)\n",
        "df['InProgress_Time'] = pd.to_datetime(df[\"InProgress_DTTM\"], errors='coerce')\n",
        "df['InProgress_Time_hour'] = df['InProgress_Time'].dt.hour\n",
        "df['InProgress_Time_minute'] = df['InProgress_Time'].dt.minute\n",
        "df['InProgress_Time_second'] = df['InProgress_Time'].dt.second\n",
        "df['InProgress_Time'] = df['InProgress_Time_hour']*60*60 + df['InProgress_Time_minute']*60 + df['InProgress_Time_second']\n",
        "df['InProgress_Time'] = df['InProgress_Time'].fillna(0)\n",
        "df = df.drop(['InProgress_Time_hour', 'InProgress_Time_minute','InProgress_Time_second'], axis = 1)"
      ],
      "metadata": {
        "id": "8dM6gUV5JfGS"
      },
      "execution_count": 14,
      "outputs": []
    },
    {
      "cell_type": "markdown",
      "source": [
        "# Completion_DTTM column"
      ],
      "metadata": {
        "id": "uTdvdzfRJhyk"
      }
    },
    {
      "cell_type": "code",
      "source": [
        "df['Completion_DTTM'] = df['Completion_DTTM'].fillna(0)\n",
        "df['Completion_Time'] = pd.to_datetime(df[\"Completion_DTTM\"], errors='coerce')\n",
        "df['Completion_Time_hour'] = df['Completion_Time'].dt.hour\n",
        "df['Completion_Time_minute'] = df['Completion_Time'].dt.minute\n",
        "df['Completion_Time_second'] = df['Completion_Time'].dt.second\n",
        "df['Completion_Time'] = df['Completion_Time_hour']*60*60 + df['Completion_Time_minute']*60 + df['Completion_Time_second']\n",
        "df['Completion_Time'] = df['Completion_Time'].fillna(0)\n",
        "df = df.drop(['Completion_Time_hour', 'Completion_Time_minute','Completion_Time_second'], axis = 1)"
      ],
      "metadata": {
        "id": "cu9_tFpzJoY0"
      },
      "execution_count": 15,
      "outputs": []
    },
    {
      "cell_type": "markdown",
      "source": [
        "# Cancellation_DTTM"
      ],
      "metadata": {
        "id": "9_DsXyO2Jq7P"
      }
    },
    {
      "cell_type": "code",
      "source": [
        "df['Cancellation_DTTM'] = df['Cancellation_DTTM'].fillna(0)\n",
        "df['Cancellation_Time'] = pd.to_datetime(df[\"Cancellation_DTTM\"], errors='coerce')\n",
        "df['Cancellation_Time_hour'] = df['Cancellation_Time'].dt.hour\n",
        "df['Cancellation_Time_minute'] = df['Cancellation_Time'].dt.minute\n",
        "df['Cancellation_Time_second'] = df['Cancellation_Time'].dt.second\n",
        "df['Cancellation_Time'] = df['Cancellation_Time_hour']*60*60 + df['Cancellation_Time_minute']*60 + df['Cancellation_Time_second']\n",
        "df['Cancellation_Time'] = df['Cancellation_Time'].fillna(0)\n",
        "df = df.drop(['Cancellation_Time_hour', 'Cancellation_Time_minute','Cancellation_Time_second'], axis = 1)"
      ],
      "metadata": {
        "id": "bNEBnaO-Jtqp"
      },
      "execution_count": 16,
      "outputs": []
    },
    {
      "cell_type": "markdown",
      "source": [
        "# Lets drop our old columns as we have engineered new columns for our data visualization "
      ],
      "metadata": {
        "id": "SRJgU8-NJ07P"
      }
    },
    {
      "cell_type": "code",
      "source": [
        "df1 = df.drop(['Requested_DTTM', 'Postponed_DTTM','Assigned_DTTM', 'Acknowledged_DTTM','InProgress_DTTM','Completion_DTTM','Cancellation_DTTM'], axis = 1)"
      ],
      "metadata": {
        "id": "2RutIOw3Jvgv"
      },
      "execution_count": 17,
      "outputs": []
    },
    {
      "cell_type": "markdown",
      "source": [
        "#### After performing feature engineering and filling our missing values in the data, we can now start finding patterns and ask questions to our data. Looking at the different time stamps of our equipent orders, is it possible to compare those columns and find out which were the euipments orderd the most, or how many cancellations happened ? \n",
        "\n",
        "We can start asking these questions one by one after we explore the top five rows."
      ],
      "metadata": {
        "id": "oOHOUMQ-JzQL"
      }
    },
    {
      "cell_type": "markdown",
      "source": [
        "# Check top 5 rows"
      ],
      "metadata": {
        "id": "OCpXzHkiKaig"
      }
    },
    {
      "cell_type": "code",
      "source": [
        "df.head()"
      ],
      "metadata": {
        "colab": {
          "base_uri": "https://localhost:8080/",
          "height": 356
        },
        "id": "TYpvsMHaK6ju",
        "outputId": "fa1739ac-82c2-48a4-d506-7a5a6c4c574a"
      },
      "execution_count": 18,
      "outputs": [
        {
          "output_type": "execute_result",
          "data": {
            "text/plain": [
              "  Transport_Name Requesting_Dept      Requested_DTTM        Assigned_DTTM  \\\n",
              "0      Blood gas           2 BIR 2019-01-01 00:02:32                    0   \n",
              "1      Blood gas           2 BIR 2019-01-01 00:14:40  2019-01-01 00:17:08   \n",
              "2      Blood gas           2 BIR 2019-01-01 00:28:07  2019-01-01 00:28:07   \n",
              "3          Other           1 EME 2019-01-01 03:57:12  2019-01-01 03:57:12   \n",
              "4      Blood gas           2 BIR 2019-01-01 04:55:02  2019-01-01 06:19:30   \n",
              "\n",
              "     Acknowledged_DTTM      InProgress_DTTM      Completion_DTTM  \\\n",
              "0                    0  2019-01-01 00:02:32  2019-01-01 00:02:36   \n",
              "1  2019-01-01 00:17:11  2019-01-01 00:22:27  2019-01-01 00:23:24   \n",
              "2  2019-01-01 00:28:25  2019-01-01 00:28:33  2019-01-01 00:40:08   \n",
              "3  2019-01-01 03:57:26  2019-01-01 03:59:58  2019-01-01 04:01:44   \n",
              "4  2019-01-01 06:19:46  2019-01-01 06:20:58  2019-01-01 06:33:57   \n",
              "\n",
              "  Cancellation_DTTM Postponed_DTTM  Requested_Time  Postponed_Time  \\\n",
              "0                 0              0             152             0.0   \n",
              "1                 0              0             880             0.0   \n",
              "2                 0              0            1687             0.0   \n",
              "3                 0              0           14232             0.0   \n",
              "4                 0              0           17702             0.0   \n",
              "\n",
              "   Assigned_Time  Acknowledged_Time  InProgress_Time  Completion_Time  \\\n",
              "0            0.0                0.0            152.0            156.0   \n",
              "1         1028.0             1031.0           1347.0           1404.0   \n",
              "2         1687.0             1705.0           1713.0           2408.0   \n",
              "3        14232.0            14246.0          14398.0          14504.0   \n",
              "4        22770.0            22786.0          22858.0          23637.0   \n",
              "\n",
              "   Cancellation_Time  \n",
              "0                0.0  \n",
              "1                0.0  \n",
              "2                0.0  \n",
              "3                0.0  \n",
              "4                0.0  "
            ],
            "text/html": [
              "\n",
              "  <div id=\"df-7b618535-b6e8-4a36-a123-62ce11bdbd73\">\n",
              "    <div class=\"colab-df-container\">\n",
              "      <div>\n",
              "<style scoped>\n",
              "    .dataframe tbody tr th:only-of-type {\n",
              "        vertical-align: middle;\n",
              "    }\n",
              "\n",
              "    .dataframe tbody tr th {\n",
              "        vertical-align: top;\n",
              "    }\n",
              "\n",
              "    .dataframe thead th {\n",
              "        text-align: right;\n",
              "    }\n",
              "</style>\n",
              "<table border=\"1\" class=\"dataframe\">\n",
              "  <thead>\n",
              "    <tr style=\"text-align: right;\">\n",
              "      <th></th>\n",
              "      <th>Transport_Name</th>\n",
              "      <th>Requesting_Dept</th>\n",
              "      <th>Requested_DTTM</th>\n",
              "      <th>Assigned_DTTM</th>\n",
              "      <th>Acknowledged_DTTM</th>\n",
              "      <th>InProgress_DTTM</th>\n",
              "      <th>Completion_DTTM</th>\n",
              "      <th>Cancellation_DTTM</th>\n",
              "      <th>Postponed_DTTM</th>\n",
              "      <th>Requested_Time</th>\n",
              "      <th>Postponed_Time</th>\n",
              "      <th>Assigned_Time</th>\n",
              "      <th>Acknowledged_Time</th>\n",
              "      <th>InProgress_Time</th>\n",
              "      <th>Completion_Time</th>\n",
              "      <th>Cancellation_Time</th>\n",
              "    </tr>\n",
              "  </thead>\n",
              "  <tbody>\n",
              "    <tr>\n",
              "      <th>0</th>\n",
              "      <td>Blood gas</td>\n",
              "      <td>2 BIR</td>\n",
              "      <td>2019-01-01 00:02:32</td>\n",
              "      <td>0</td>\n",
              "      <td>0</td>\n",
              "      <td>2019-01-01 00:02:32</td>\n",
              "      <td>2019-01-01 00:02:36</td>\n",
              "      <td>0</td>\n",
              "      <td>0</td>\n",
              "      <td>152</td>\n",
              "      <td>0.0</td>\n",
              "      <td>0.0</td>\n",
              "      <td>0.0</td>\n",
              "      <td>152.0</td>\n",
              "      <td>156.0</td>\n",
              "      <td>0.0</td>\n",
              "    </tr>\n",
              "    <tr>\n",
              "      <th>1</th>\n",
              "      <td>Blood gas</td>\n",
              "      <td>2 BIR</td>\n",
              "      <td>2019-01-01 00:14:40</td>\n",
              "      <td>2019-01-01 00:17:08</td>\n",
              "      <td>2019-01-01 00:17:11</td>\n",
              "      <td>2019-01-01 00:22:27</td>\n",
              "      <td>2019-01-01 00:23:24</td>\n",
              "      <td>0</td>\n",
              "      <td>0</td>\n",
              "      <td>880</td>\n",
              "      <td>0.0</td>\n",
              "      <td>1028.0</td>\n",
              "      <td>1031.0</td>\n",
              "      <td>1347.0</td>\n",
              "      <td>1404.0</td>\n",
              "      <td>0.0</td>\n",
              "    </tr>\n",
              "    <tr>\n",
              "      <th>2</th>\n",
              "      <td>Blood gas</td>\n",
              "      <td>2 BIR</td>\n",
              "      <td>2019-01-01 00:28:07</td>\n",
              "      <td>2019-01-01 00:28:07</td>\n",
              "      <td>2019-01-01 00:28:25</td>\n",
              "      <td>2019-01-01 00:28:33</td>\n",
              "      <td>2019-01-01 00:40:08</td>\n",
              "      <td>0</td>\n",
              "      <td>0</td>\n",
              "      <td>1687</td>\n",
              "      <td>0.0</td>\n",
              "      <td>1687.0</td>\n",
              "      <td>1705.0</td>\n",
              "      <td>1713.0</td>\n",
              "      <td>2408.0</td>\n",
              "      <td>0.0</td>\n",
              "    </tr>\n",
              "    <tr>\n",
              "      <th>3</th>\n",
              "      <td>Other</td>\n",
              "      <td>1 EME</td>\n",
              "      <td>2019-01-01 03:57:12</td>\n",
              "      <td>2019-01-01 03:57:12</td>\n",
              "      <td>2019-01-01 03:57:26</td>\n",
              "      <td>2019-01-01 03:59:58</td>\n",
              "      <td>2019-01-01 04:01:44</td>\n",
              "      <td>0</td>\n",
              "      <td>0</td>\n",
              "      <td>14232</td>\n",
              "      <td>0.0</td>\n",
              "      <td>14232.0</td>\n",
              "      <td>14246.0</td>\n",
              "      <td>14398.0</td>\n",
              "      <td>14504.0</td>\n",
              "      <td>0.0</td>\n",
              "    </tr>\n",
              "    <tr>\n",
              "      <th>4</th>\n",
              "      <td>Blood gas</td>\n",
              "      <td>2 BIR</td>\n",
              "      <td>2019-01-01 04:55:02</td>\n",
              "      <td>2019-01-01 06:19:30</td>\n",
              "      <td>2019-01-01 06:19:46</td>\n",
              "      <td>2019-01-01 06:20:58</td>\n",
              "      <td>2019-01-01 06:33:57</td>\n",
              "      <td>0</td>\n",
              "      <td>0</td>\n",
              "      <td>17702</td>\n",
              "      <td>0.0</td>\n",
              "      <td>22770.0</td>\n",
              "      <td>22786.0</td>\n",
              "      <td>22858.0</td>\n",
              "      <td>23637.0</td>\n",
              "      <td>0.0</td>\n",
              "    </tr>\n",
              "  </tbody>\n",
              "</table>\n",
              "</div>\n",
              "      <button class=\"colab-df-convert\" onclick=\"convertToInteractive('df-7b618535-b6e8-4a36-a123-62ce11bdbd73')\"\n",
              "              title=\"Convert this dataframe to an interactive table.\"\n",
              "              style=\"display:none;\">\n",
              "        \n",
              "  <svg xmlns=\"http://www.w3.org/2000/svg\" height=\"24px\"viewBox=\"0 0 24 24\"\n",
              "       width=\"24px\">\n",
              "    <path d=\"M0 0h24v24H0V0z\" fill=\"none\"/>\n",
              "    <path d=\"M18.56 5.44l.94 2.06.94-2.06 2.06-.94-2.06-.94-.94-2.06-.94 2.06-2.06.94zm-11 1L8.5 8.5l.94-2.06 2.06-.94-2.06-.94L8.5 2.5l-.94 2.06-2.06.94zm10 10l.94 2.06.94-2.06 2.06-.94-2.06-.94-.94-2.06-.94 2.06-2.06.94z\"/><path d=\"M17.41 7.96l-1.37-1.37c-.4-.4-.92-.59-1.43-.59-.52 0-1.04.2-1.43.59L10.3 9.45l-7.72 7.72c-.78.78-.78 2.05 0 2.83L4 21.41c.39.39.9.59 1.41.59.51 0 1.02-.2 1.41-.59l7.78-7.78 2.81-2.81c.8-.78.8-2.07 0-2.86zM5.41 20L4 18.59l7.72-7.72 1.47 1.35L5.41 20z\"/>\n",
              "  </svg>\n",
              "      </button>\n",
              "      \n",
              "  <style>\n",
              "    .colab-df-container {\n",
              "      display:flex;\n",
              "      flex-wrap:wrap;\n",
              "      gap: 12px;\n",
              "    }\n",
              "\n",
              "    .colab-df-convert {\n",
              "      background-color: #E8F0FE;\n",
              "      border: none;\n",
              "      border-radius: 50%;\n",
              "      cursor: pointer;\n",
              "      display: none;\n",
              "      fill: #1967D2;\n",
              "      height: 32px;\n",
              "      padding: 0 0 0 0;\n",
              "      width: 32px;\n",
              "    }\n",
              "\n",
              "    .colab-df-convert:hover {\n",
              "      background-color: #E2EBFA;\n",
              "      box-shadow: 0px 1px 2px rgba(60, 64, 67, 0.3), 0px 1px 3px 1px rgba(60, 64, 67, 0.15);\n",
              "      fill: #174EA6;\n",
              "    }\n",
              "\n",
              "    [theme=dark] .colab-df-convert {\n",
              "      background-color: #3B4455;\n",
              "      fill: #D2E3FC;\n",
              "    }\n",
              "\n",
              "    [theme=dark] .colab-df-convert:hover {\n",
              "      background-color: #434B5C;\n",
              "      box-shadow: 0px 1px 3px 1px rgba(0, 0, 0, 0.15);\n",
              "      filter: drop-shadow(0px 1px 2px rgba(0, 0, 0, 0.3));\n",
              "      fill: #FFFFFF;\n",
              "    }\n",
              "  </style>\n",
              "\n",
              "      <script>\n",
              "        const buttonEl =\n",
              "          document.querySelector('#df-7b618535-b6e8-4a36-a123-62ce11bdbd73 button.colab-df-convert');\n",
              "        buttonEl.style.display =\n",
              "          google.colab.kernel.accessAllowed ? 'block' : 'none';\n",
              "\n",
              "        async function convertToInteractive(key) {\n",
              "          const element = document.querySelector('#df-7b618535-b6e8-4a36-a123-62ce11bdbd73');\n",
              "          const dataTable =\n",
              "            await google.colab.kernel.invokeFunction('convertToInteractive',\n",
              "                                                     [key], {});\n",
              "          if (!dataTable) return;\n",
              "\n",
              "          const docLinkHtml = 'Like what you see? Visit the ' +\n",
              "            '<a target=\"_blank\" href=https://colab.research.google.com/notebooks/data_table.ipynb>data table notebook</a>'\n",
              "            + ' to learn more about interactive tables.';\n",
              "          element.innerHTML = '';\n",
              "          dataTable['output_type'] = 'display_data';\n",
              "          await google.colab.output.renderOutput(dataTable, element);\n",
              "          const docLink = document.createElement('div');\n",
              "          docLink.innerHTML = docLinkHtml;\n",
              "          element.appendChild(docLink);\n",
              "        }\n",
              "      </script>\n",
              "    </div>\n",
              "  </div>\n",
              "  "
            ]
          },
          "metadata": {},
          "execution_count": 18
        }
      ]
    },
    {
      "cell_type": "code",
      "source": [
        "#Making sure that the null values are filled.\n",
        "df.isna().sum()"
      ],
      "metadata": {
        "colab": {
          "base_uri": "https://localhost:8080/"
        },
        "id": "vbJjxCaYM7nW",
        "outputId": "f3d257ed-ddcd-456f-98c5-97ddfcbfbb6b"
      },
      "execution_count": 19,
      "outputs": [
        {
          "output_type": "execute_result",
          "data": {
            "text/plain": [
              "Transport_Name       0\n",
              "Requesting_Dept      0\n",
              "Requested_DTTM       0\n",
              "Assigned_DTTM        0\n",
              "Acknowledged_DTTM    0\n",
              "InProgress_DTTM      0\n",
              "Completion_DTTM      0\n",
              "Cancellation_DTTM    0\n",
              "Postponed_DTTM       0\n",
              "Requested_Time       0\n",
              "Postponed_Time       0\n",
              "Assigned_Time        0\n",
              "Acknowledged_Time    0\n",
              "InProgress_Time      0\n",
              "Completion_Time      0\n",
              "Cancellation_Time    0\n",
              "dtype: int64"
            ]
          },
          "metadata": {},
          "execution_count": 19
        }
      ]
    },
    {
      "cell_type": "markdown",
      "source": [
        "# Which transport item was requested the most ?"
      ],
      "metadata": {
        "id": "SD3UVRomNN8K"
      }
    },
    {
      "cell_type": "code",
      "source": [
        "Transport_Name = df['Transport_Name'].value_counts().sort_values(ascending=False)[:10]\n",
        "Transport_Name"
      ],
      "metadata": {
        "colab": {
          "base_uri": "https://localhost:8080/"
        },
        "id": "CVTzl2T1N1C9",
        "outputId": "f26ad730-2578-4c2f-cbd4-591f0ecfa1b1"
      },
      "execution_count": 20,
      "outputs": [
        {
          "output_type": "execute_result",
          "data": {
            "text/plain": [
              "Linen                            6129\n",
              "Other                            3703\n",
              "Blood gas                        3280\n",
              "Bed Collection                   2474\n",
              "Specimen Collection              2128\n",
              "Equipment Pickup (Non OR/MDR)    1539\n",
              "MDR Collection                   1062\n",
              "Blood product                     709\n",
              "02 Tank/02 Tank Collection        124\n",
              "Visitor Pickup                     15\n",
              "Name: Transport_Name, dtype: int64"
            ]
          },
          "metadata": {},
          "execution_count": 20
        }
      ]
    },
    {
      "cell_type": "markdown",
      "source": [
        "# Lets visualize our most requested transport equipments."
      ],
      "metadata": {
        "id": "hG6g3o_QOCWS"
      }
    },
    {
      "cell_type": "code",
      "source": [
        "Transport_Name = df['Transport_Name'].value_counts().sort_values(ascending=False)[:10]\n",
        "\n",
        "fig, ax = plt.subplots(figsize=(25,8))\n",
        "ax.bar(Transport_Name.index, Transport_Name.values, color='blue')\n",
        "ax.set_title('\\nTop 10 requested transport equipments\\n', fontsize=14, fontweight='bold')\n",
        "ax.set(ylabel='\\nTime in minutes')"
      ],
      "metadata": {
        "colab": {
          "base_uri": "https://localhost:8080/",
          "height": 549
        },
        "id": "4A54E8HwOJqB",
        "outputId": "a7e5bcf5-78a7-436b-f2da-4fa7f9b74cb3"
      },
      "execution_count": 21,
      "outputs": [
        {
          "output_type": "execute_result",
          "data": {
            "text/plain": [
              "[Text(0, 0.5, '\\nTime in minutes')]"
            ]
          },
          "metadata": {},
          "execution_count": 21
        },
        {
          "output_type": "display_data",
          "data": {
            "text/plain": [
              "<Figure size 1800x576 with 1 Axes>"
            ],
            "image/png": "[encoded data removed]"
          },
          "metadata": {
            "needs_background": "light"
          }
        }
      ]
    },
    {
      "cell_type": "markdown",
      "source": [
        "##### Out of the top 10 most requested items, Linen seems to be the most requested transport equipment with almost 6000 orders."
      ],
      "metadata": {
        "id": "BcbvJA3dSPvt"
      }
    },
    {
      "cell_type": "markdown",
      "source": [
        "# Now lets find out which department made the most requests of the equipments"
      ],
      "metadata": {
        "id": "NvbkSOluU29n"
      }
    },
    {
      "cell_type": "code",
      "source": [
        "Requesting_Dept = df['Requesting_Dept'].value_counts().sort_values(ascending=False)[:10]\n",
        "Requesting_Dept "
      ],
      "metadata": {
        "colab": {
          "base_uri": "https://localhost:8080/"
        },
        "id": "gz7XvLAgVyZD",
        "outputId": "c75fa9a9-0517-4762-8cc3-2c2fa82ef7ca"
      },
      "execution_count": 22,
      "outputs": [
        {
          "output_type": "execute_result",
          "data": {
            "text/plain": [
              "2 BIR    4412\n",
              "1 EME    2189\n",
              "7 SUR    1828\n",
              "1 INT    1648\n",
              "6 GI     1119\n",
              "4BD C     989\n",
              "4 MED     961\n",
              "4MG C     924\n",
              "T7 NE     861\n",
              "T6 CT     816\n",
              "Name: Requesting_Dept, dtype: int64"
            ]
          },
          "metadata": {},
          "execution_count": 22
        }
      ]
    },
    {
      "cell_type": "markdown",
      "source": [
        "# Lets visualize our results to understand better"
      ],
      "metadata": {
        "id": "FWCI_mCvWBxB"
      }
    },
    {
      "cell_type": "code",
      "source": [
        "fig, ax = plt.subplots(figsize=(15,8))\n",
        "ax.bar(Requesting_Dept.index, Requesting_Dept.values, color='green')\n",
        "ax.set_title('\\nTop departments to make maximun requests\\n', fontsize=14, fontweight='bold')\n",
        "ax.set(ylabel='\\nTime in minutes')"
      ],
      "metadata": {
        "colab": {
          "base_uri": "https://localhost:8080/",
          "height": 549
        },
        "id": "YTyANkKjYaX5",
        "outputId": "87a674af-028c-48fc-9284-630df7f333e8"
      },
      "execution_count": 23,
      "outputs": [
        {
          "output_type": "execute_result",
          "data": {
            "text/plain": [
              "[Text(0, 0.5, '\\nTime in minutes')]"
            ]
          },
          "metadata": {},
          "execution_count": 23
        },
        {
          "output_type": "display_data",
          "data": {
            "text/plain": [
              "<Figure size 1080x576 with 1 Axes>"
            ],
            "image/png": "[encoded data removed]"
          },
          "metadata": {
            "needs_background": "light"
          }
        }
      ]
    },
    {
      "cell_type": "markdown",
      "source": [
        "### It is clear that 2 BIR made the most requests."
      ],
      "metadata": {
        "id": "ODjfJvpXZ8kq"
      }
    },
    {
      "cell_type": "markdown",
      "source": [
        "##### Now that we know which department made the most requests and which equipment was the most popular amongst all, I want to explore the time taken by these request to get assigned, acknowledged, postponed,completed or cancelled.  "
      ],
      "metadata": {
        "id": "8RgTXWnob4Tg"
      }
    },
    {
      "cell_type": "markdown",
      "source": [
        "# Which requests got cancelled the most ? "
      ],
      "metadata": {
        "id": "FB1dzlJLdO-W"
      }
    },
    {
      "cell_type": "code",
      "source": [
        "Completion_Time = df.loc[df['Completion_Time'] != 0]\n",
        "Completion_Time = Completion_Time['Transport_Name'].value_counts().sort_values(ascending=False)[:10]\n",
        "Completion_Time"
      ],
      "metadata": {
        "colab": {
          "base_uri": "https://localhost:8080/"
        },
        "id": "sQdmqMU_di_q",
        "outputId": "3757bded-0357-4854-e416-470daf9f4df8"
      },
      "execution_count": 24,
      "outputs": [
        {
          "output_type": "execute_result",
          "data": {
            "text/plain": [
              "Linen                            5787\n",
              "Other                            3367\n",
              "Blood gas                        3202\n",
              "Bed Collection                   2177\n",
              "Specimen Collection              1948\n",
              "Equipment Pickup (Non OR/MDR)    1440\n",
              "MDR Collection                    988\n",
              "Blood product                     663\n",
              "02 Tank/02 Tank Collection        111\n",
              "Visitor Pickup                     14\n",
              "Name: Transport_Name, dtype: int64"
            ]
          },
          "metadata": {},
          "execution_count": 24
        }
      ]
    },
    {
      "cell_type": "code",
      "source": [
        "Cancellation_Time  = df.loc[df['Completion_Time'] == 0]\n",
        "Cancellation_Time = Cancellation_Time['Transport_Name'].value_counts().sort_values(ascending=False)[:10]\n",
        "# prepare plot\n",
        "fig, ax = plt.subplots(figsize=(25,8))\n",
        "ax.bar(Cancellation_Time.index, Cancellation_Time.values, color='red')\n",
        "ax.set_title('\\n Requests that got cancelled the most\\n', fontsize=14, fontweight='bold')\n",
        "ax.set(ylabel='\\nTime in minutes')"
      ],
      "metadata": {
        "colab": {
          "base_uri": "https://localhost:8080/",
          "height": 549
        },
        "id": "qH6ajsjQsA_1",
        "outputId": "9c15a1ed-dab7-47ba-821e-43ae906bf64d"
      },
      "execution_count": 25,
      "outputs": [
        {
          "output_type": "execute_result",
          "data": {
            "text/plain": [
              "[Text(0, 0.5, '\\nTime in minutes')]"
            ]
          },
          "metadata": {},
          "execution_count": 25
        },
        {
          "output_type": "display_data",
          "data": {
            "text/plain": [
              "<Figure size 1800x576 with 1 Axes>"
            ],
            "image/png": "[encoded data removed]"
          },
          "metadata": {
            "needs_background": "light"
          }
        }
      ]
    },
    {
      "cell_type": "markdown",
      "source": [
        "#### From this graph, we can say that Linen department's request got completed the most."
      ],
      "metadata": {
        "id": "yy5kE11gtw9a"
      }
    },
    {
      "cell_type": "markdown",
      "source": [
        "# What are the top 10 departments with highest number of cancellations ?"
      ],
      "metadata": {
        "id": "7PHHb1gmv6mF"
      }
    },
    {
      "cell_type": "code",
      "source": [
        "Cancellation_Time  = df.loc[df['Cancellation_Time'] != 0]\n",
        "Cancellation_Time =Cancellation_Time['Requesting_Dept'].value_counts().sort_values(ascending=False)[:10]\n",
        "Cancellation_Time"
      ],
      "metadata": {
        "colab": {
          "base_uri": "https://localhost:8080/"
        },
        "id": "Ntb__EJ3wFTB",
        "outputId": "97c2cf18-ad51-4c84-e2b6-cbb05d0bd53c"
      },
      "execution_count": 26,
      "outputs": [
        {
          "output_type": "execute_result",
          "data": {
            "text/plain": [
              "2 BIR    172\n",
              "7 SUR    163\n",
              "1 EME    149\n",
              "1 INT    112\n",
              "4 MED     96\n",
              "6 GI      94\n",
              "4BD C     92\n",
              "4MG C     85\n",
              "T6 CT     60\n",
              "T7 NE     58\n",
              "Name: Requesting_Dept, dtype: int64"
            ]
          },
          "metadata": {},
          "execution_count": 26
        }
      ]
    },
    {
      "cell_type": "code",
      "source": [
        "Cancellation_Time  = df.loc[df['Cancellation_Time'] != 0]\n",
        "Cancellation_Time = Cancellation_Time['Requesting_Dept'].value_counts().sort_values(ascending=False)[:10]\n",
        "# prepare plot\n",
        "fig, ax = plt.subplots(figsize=(15,8))\n",
        "ax.bar(Cancellation_Time.index, Cancellation_Time.values, color='maroon')\n",
        "ax.set_title('\\nTop 10 departments with the highest cancelled requests\\n', fontsize=14, fontweight='bold')\n",
        "ax.set(ylabel='\\nTotal Counts')"
      ],
      "metadata": {
        "colab": {
          "base_uri": "https://localhost:8080/",
          "height": 549
        },
        "id": "RBrT9pKAwIIf",
        "outputId": "a66d2df1-62fe-495a-daf3-a46d74c53a4f"
      },
      "execution_count": 27,
      "outputs": [
        {
          "output_type": "execute_result",
          "data": {
            "text/plain": [
              "[Text(0, 0.5, '\\nTotal Counts')]"
            ]
          },
          "metadata": {},
          "execution_count": 27
        },
        {
          "output_type": "display_data",
          "data": {
            "text/plain": [
              "<Figure size 1080x576 with 1 Axes>"
            ],
            "image/png": "[encoded data removed]"
          },
          "metadata": {
            "needs_background": "light"
          }
        }
      ]
    },
    {
      "cell_type": "markdown",
      "source": [
        "# 2 BIR, 7 SUR, 1 EME, 1 INT, 4 MED, 6 GI, 4BD C, 4MG C, T6 CT, T7 NE were the top 10 departments which had the maximum cancellations"
      ],
      "metadata": {
        "id": "1Ufq83Y1wUj5"
      }
    },
    {
      "cell_type": "markdown",
      "source": [
        "# Which department got the most completed requests ?"
      ],
      "metadata": {
        "id": "WPooB33u7ONV"
      }
    },
    {
      "cell_type": "markdown",
      "source": [
        "# Lets explore some more features in the dataset where we can find out how long does any request took to get acknowledged after getting assigned."
      ],
      "metadata": {
        "id": "vwPlIwOa7nZm"
      }
    },
    {
      "cell_type": "code",
      "source": [
        "df['Difference_1'] = df['Acknowledged_Time'] - df['Assigned_Time']"
      ],
      "metadata": {
        "id": "2_BlnZ4F8rHA"
      },
      "execution_count": 28,
      "outputs": []
    },
    {
      "cell_type": "markdown",
      "source": [
        "# Which departments took the longest time to get acknowledged after they got assigned ?"
      ],
      "metadata": {
        "id": "Ex4SlDvA9BaZ"
      }
    },
    {
      "cell_type": "code",
      "source": [
        "df.groupby('Requesting_Dept')['Difference_1'].max().sort_values(ascending=False)[:10]/3600"
      ],
      "metadata": {
        "colab": {
          "base_uri": "https://localhost:8080/"
        },
        "id": "5UVVAMIzIF4G",
        "outputId": "96c8fa90-51bd-4ffe-8889-7aa86b94029a"
      },
      "execution_count": 29,
      "outputs": [
        {
          "output_type": "execute_result",
          "data": {
            "text/plain": [
              "Requesting_Dept\n",
              "2 ALC    6.770278\n",
              "T7 NE    6.203056\n",
              "T6 CT    5.079444\n",
              "4BD C    4.925556\n",
              "T7 RE    4.733333\n",
              "1 EME    4.645556\n",
              "5MG T    4.235833\n",
              "6 GI     4.073889\n",
              "5MG M    3.878333\n",
              "4 MED    3.822222\n",
              "Name: Difference_1, dtype: float64"
            ]
          },
          "metadata": {},
          "execution_count": 29
        }
      ]
    },
    {
      "cell_type": "markdown",
      "source": [
        "# 2 ALC , T7 NE, T6 CT , 4BD C , T7 RE were the top requests which took the longest time to get acknowledged after getting assigned"
      ],
      "metadata": {
        "id": "DOFR35r9IIp_"
      }
    },
    {
      "cell_type": "markdown",
      "source": [
        "### Lets plot these values inorder to visualize them."
      ],
      "metadata": {
        "id": "_5-RBHCITrZQ"
      }
    },
    {
      "cell_type": "code",
      "source": [
        "Completion_Time =df.groupby('Requesting_Dept')['Difference_1'].max().sort_values(ascending=False)[:10]/3600\n",
        "\n",
        "fig, ax = plt.subplots(figsize=(15,8))\n",
        "ax.bar(Completion_Time.index, Completion_Time.values, color='orange')\n",
        "ax.set_title('\\nTop 10 Departments which took the most time to get acknowledged after assignment\\n', fontsize=14, fontweight='bold')\n",
        "ax.set(ylabel='\\nTime in minutes')"
      ],
      "metadata": {
        "colab": {
          "base_uri": "https://localhost:8080/",
          "height": 549
        },
        "id": "KwLWnkelUkRZ",
        "outputId": "1e7f0ee8-6dde-4757-b4fc-b14d21a6a093"
      },
      "execution_count": 30,
      "outputs": [
        {
          "output_type": "execute_result",
          "data": {
            "text/plain": [
              "[Text(0, 0.5, '\\nTime in minutes')]"
            ]
          },
          "metadata": {},
          "execution_count": 30
        },
        {
          "output_type": "display_data",
          "data": {
            "text/plain": [
              "<Figure size 1080x576 with 1 Axes>"
            ],
            "image/png": "[encoded data removed]"
          },
          "metadata": {
            "needs_background": "light"
          }
        }
      ]
    },
    {
      "cell_type": "markdown",
      "source": [
        "# Which departments' requests took the longest time to go in progress after being assgined ?"
      ],
      "metadata": {
        "id": "GBK719qXYHnx"
      }
    },
    {
      "cell_type": "code",
      "source": [
        "df['Difference_2'] =   df['InProgress_Time'] - df['Assigned_Time']"
      ],
      "metadata": {
        "id": "blstwC0xdGy6"
      },
      "execution_count": 31,
      "outputs": []
    },
    {
      "cell_type": "code",
      "source": [
        "df.groupby('Requesting_Dept')['Difference_2'].max().sort_values(ascending=False)[:15]/3600"
      ],
      "metadata": {
        "colab": {
          "base_uri": "https://localhost:8080/"
        },
        "id": "cGO9NPjddMgh",
        "outputId": "58be295b-08d6-4354-8941-3220cc538baf"
      },
      "execution_count": 32,
      "outputs": [
        {
          "output_type": "execute_result",
          "data": {
            "text/plain": [
              "Requesting_Dept\n",
              "2 ALC    6.771389\n",
              "T7 NE    6.204167\n",
              "T6 CT    5.080556\n",
              "4BD C    4.926667\n",
              "T7 RE    4.777778\n",
              "1 EME    4.691111\n",
              "5MG T    4.236944\n",
              "6 GI     4.075833\n",
              "5MG M    3.879444\n",
              "4 MED    3.856944\n",
              "1 INT    3.815833\n",
              "4MG C    3.743611\n",
              "7 SUR    3.440833\n",
              "3 OBS    3.400556\n",
              "T9 AC    3.308056\n",
              "Name: Difference_2, dtype: float64"
            ]
          },
          "metadata": {},
          "execution_count": 32
        }
      ]
    },
    {
      "cell_type": "markdown",
      "source": [
        "# Lets visualize this."
      ],
      "metadata": {
        "id": "I10NDpXsdOXu"
      }
    },
    {
      "cell_type": "code",
      "source": [
        "Completion_Time =df.groupby('Requesting_Dept')['Difference_2'].max().sort_values(ascending=False)[:15]/3600\n",
        "fig, ax = plt.subplots(figsize=(15,8))\n",
        "ax.bar(Completion_Time.index, Completion_Time.values, color='blue')\n",
        "ax.set_title('\\nTop departments whose requests took longest time to go under progress after getting assigned\\n', fontsize=14, fontweight='bold')\n",
        "ax.set(ylabel='\\nTime in minutes')"
      ],
      "metadata": {
        "colab": {
          "base_uri": "https://localhost:8080/",
          "height": 549
        },
        "id": "UMimo1yXk5JS",
        "outputId": "700f27fa-c9e9-41fe-aae1-3083be7d5b30"
      },
      "execution_count": 33,
      "outputs": [
        {
          "output_type": "execute_result",
          "data": {
            "text/plain": [
              "[Text(0, 0.5, '\\nTime in minutes')]"
            ]
          },
          "metadata": {},
          "execution_count": 33
        },
        {
          "output_type": "display_data",
          "data": {
            "text/plain": [
              "<Figure size 1080x576 with 1 Axes>"
            ],
            "image/png": "[encoded data removed]"
          },
          "metadata": {
            "needs_background": "light"
          }
        }
      ]
    },
    {
      "cell_type": "markdown",
      "source": [
        "# 2 ALC took the longest time to go under progress."
      ],
      "metadata": {
        "id": "UVnT7GrmlSsi"
      }
    },
    {
      "cell_type": "markdown",
      "source": [
        "#Which departments' requests took longest time to get completed after going under progress ?"
      ],
      "metadata": {
        "id": "l0Wu_H1InhbG"
      }
    },
    {
      "cell_type": "code",
      "source": [
        "df['Difference_3'] =   df['Completion_Time'] - df['InProgress_Time']\n",
        "Difference_3 = df.loc[(df['Difference_3'] >= 0)  & (df['Cancellation_Time'] == 0)]\n",
        "Difference_3.groupby('Requesting_Dept')['Difference_3'].max().sort_values(ascending=False)[:10]/3600"
      ],
      "metadata": {
        "colab": {
          "base_uri": "https://localhost:8080/"
        },
        "id": "jz-WrfP_nrdF",
        "outputId": "1ae3b526-47d2-426c-c1fd-b57fd8475a09"
      },
      "execution_count": 34,
      "outputs": [
        {
          "output_type": "execute_result",
          "data": {
            "text/plain": [
              "Requesting_Dept\n",
              "1 EME    4.655556\n",
              "2 BIR    4.606111\n",
              "7 SUR    3.093056\n",
              "5MG M    3.037222\n",
              "T5 CO    2.753333\n",
              "T10 A    2.506667\n",
              "1 INT    2.424444\n",
              "T7 RE    2.118333\n",
              "4MG C    2.074722\n",
              "T7 NE    1.914722\n",
              "Name: Difference_3, dtype: float64"
            ]
          },
          "metadata": {},
          "execution_count": 34
        }
      ]
    },
    {
      "cell_type": "markdown",
      "source": [
        "# Visualizing it "
      ],
      "metadata": {
        "id": "NUp8F6Clnt_f"
      }
    },
    {
      "cell_type": "code",
      "source": [
        "Completion_Time =Difference_3.groupby('Requesting_Dept')['Difference_3'].max().sort_values(ascending=False)[:10]/3600\n",
        "\n",
        "fig, ax = plt.subplots(figsize=(15,8))\n",
        "ax.bar(Completion_Time.index, Completion_Time.values, color='yellow')\n",
        "ax.set_title('\\nTop departments whose requests took the longest time to get completed after going under progress\\n', fontsize=14, fontweight='bold')\n",
        "ax.set(ylabel='\\nTime in minutes')"
      ],
      "metadata": {
        "colab": {
          "base_uri": "https://localhost:8080/",
          "height": 549
        },
        "id": "oP7N0ozSoDEw",
        "outputId": "aba99a22-8b02-416d-848b-4f4fc970026d"
      },
      "execution_count": 35,
      "outputs": [
        {
          "output_type": "execute_result",
          "data": {
            "text/plain": [
              "[Text(0, 0.5, '\\nTime in minutes')]"
            ]
          },
          "metadata": {},
          "execution_count": 35
        },
        {
          "output_type": "display_data",
          "data": {
            "text/plain": [
              "<Figure size 1080x576 with 1 Axes>"
            ],
            "image/png": "[encoded data removed]"
          },
          "metadata": {
            "needs_background": "light"
          }
        }
      ]
    },
    {
      "cell_type": "markdown",
      "source": [
        "### 1 EME, 2 BIR took almost 5 minutes , which is the longest time as per the graph. "
      ],
      "metadata": {
        "id": "eFmKq4rXoLn0"
      }
    },
    {
      "cell_type": "markdown",
      "source": [
        "# Which departments' requests took the least amount of time to get completed after going under progress ?"
      ],
      "metadata": {
        "id": "LVF_ZP35p08v"
      }
    },
    {
      "cell_type": "code",
      "source": [
        "df['Difference_4'] =   df['Completion_Time'] - df['InProgress_Time']\n",
        "Difference_4 = df.loc[(df['Difference_4'] >= 0)  & (df['Cancellation_Time'] == 0)]\n",
        "Difference_4.groupby('Requesting_Dept')['Difference_4'].max().sort_values(ascending=True)[:10]/3600"
      ],
      "metadata": {
        "colab": {
          "base_uri": "https://localhost:8080/"
        },
        "id": "o-AVWWJtrwrs",
        "outputId": "c5f3560a-f3df-46c9-da1d-b5114e4aa17d"
      },
      "execution_count": 36,
      "outputs": [
        {
          "output_type": "execute_result",
          "data": {
            "text/plain": [
              "Requesting_Dept\n",
              "KIDNE    0.566944\n",
              "T8 RE    0.619722\n",
              "T4 HE    0.621667\n",
              "T8 CO    0.760833\n",
              "2 ALC    0.840833\n",
              "T4 SU    0.867500\n",
              "T4 CH    0.965278\n",
              "T6 CT    1.009722\n",
              "3 SPE    1.048611\n",
              "3 OBS    1.103889\n",
              "Name: Difference_4, dtype: float64"
            ]
          },
          "metadata": {},
          "execution_count": 36
        }
      ]
    },
    {
      "cell_type": "markdown",
      "source": [
        "# Lets visualize it"
      ],
      "metadata": {
        "id": "gmE0l3h4sM5W"
      }
    },
    {
      "cell_type": "code",
      "source": [
        "Completion_Time =Difference_4.groupby('Requesting_Dept')['Difference_4'].max().sort_values(ascending=True)[:10]/3600\n",
        "# prepare plot\n",
        "fig, ax = plt.subplots(figsize=(15,8))\n",
        "ax.bar(Completion_Time.index, Completion_Time.values, color='green')\n",
        "ax.set_title('\\n Departments whose request got completed fast with least amount of time\\n', fontsize=14, fontweight='bold')\n",
        "ax.set(ylabel='\\nTime in minutes')"
      ],
      "metadata": {
        "colab": {
          "base_uri": "https://localhost:8080/",
          "height": 549
        },
        "id": "meVWkjEHsndi",
        "outputId": "f9470375-cc0f-4a9e-ead7-f2ca831a1d63"
      },
      "execution_count": 37,
      "outputs": [
        {
          "output_type": "execute_result",
          "data": {
            "text/plain": [
              "[Text(0, 0.5, '\\nTime in minutes')]"
            ]
          },
          "metadata": {},
          "execution_count": 37
        },
        {
          "output_type": "display_data",
          "data": {
            "text/plain": [
              "<Figure size 1080x576 with 1 Axes>"
            ],
            "image/png": "[encoded data removed]"
          },
          "metadata": {
            "needs_background": "light"
          }
        }
      ]
    },
    {
      "cell_type": "markdown",
      "source": [
        "# KIDNE, T8 RE and T4 HE department got their equipments pretty quickly as compared to others. "
      ],
      "metadata": {
        "id": "map3yFC8tVJg"
      }
    },
    {
      "cell_type": "markdown",
      "source": [
        "# Which departments' requests took the longest time to get cancelled after being under progress?"
      ],
      "metadata": {
        "id": "SUb5F5eEtgvN"
      }
    },
    {
      "cell_type": "code",
      "source": [
        "df['Difference_5'] =   df['Cancellation_Time'] - df['InProgress_Time']\n",
        "Difference_5 = df.loc[df['Cancellation_Time'] > 0]\n",
        "Difference_5.groupby('Requesting_Dept')['Difference_5'].max().sort_values(ascending=False)[:10]/3600"
      ],
      "metadata": {
        "colab": {
          "base_uri": "https://localhost:8080/"
        },
        "id": "ahyknQJIvt-V",
        "outputId": "13e917a2-91f9-447a-b609-573b0d50a854"
      },
      "execution_count": 38,
      "outputs": [
        {
          "output_type": "execute_result",
          "data": {
            "text/plain": [
              "Requesting_Dept\n",
              "1 EME    23.975556\n",
              "4BD C    23.962500\n",
              "1 INT    23.957222\n",
              "2 BIR    23.952500\n",
              "PES S    23.896667\n",
              "T6 CT    23.817500\n",
              "7 SUR    23.811389\n",
              "6 GI     23.793889\n",
              "T7 NE    23.704722\n",
              "3 OBS    23.631111\n",
              "Name: Difference_5, dtype: float64"
            ]
          },
          "metadata": {},
          "execution_count": 38
        }
      ]
    },
    {
      "cell_type": "markdown",
      "source": [
        "# Lets visualize"
      ],
      "metadata": {
        "id": "m7uO9HS6zeFl"
      }
    },
    {
      "cell_type": "code",
      "source": [
        "Completion_Time =Difference_5.groupby('Requesting_Dept')['Difference_5'].max().sort_values(ascending=False)[:10]/3600\n",
        "fig, ax = plt.subplots(figsize=(15,8))\n",
        "ax.bar(Completion_Time.index, Completion_Time.values, color='brown')\n",
        "ax.set_title('\\nTop departments that took longest time to have their requests cancelled after going under progress\\n', fontsize=14, fontweight='bold')\n",
        "ax.set(ylabel='\\nTime')"
      ],
      "metadata": {
        "colab": {
          "base_uri": "https://localhost:8080/",
          "height": 549
        },
        "id": "jQkO5B6_zhie",
        "outputId": "3eb80cee-6489-4eba-fb1d-729d3339b308"
      },
      "execution_count": 39,
      "outputs": [
        {
          "output_type": "execute_result",
          "data": {
            "text/plain": [
              "[Text(0, 0.5, '\\nTime')]"
            ]
          },
          "metadata": {},
          "execution_count": 39
        },
        {
          "output_type": "display_data",
          "data": {
            "text/plain": [
              "<Figure size 1080x576 with 1 Axes>"
            ],
            "image/png": "[encoded data removed]"
          },
          "metadata": {
            "needs_background": "light"
          }
        }
      ]
    },
    {
      "cell_type": "markdown",
      "source": [
        "# All the following departments took the longest time to get their request cancelled after going under progress.\n",
        "\n",
        "1 EME    \n",
        "4BD C    \n",
        "1 INT    \n",
        "2 BIR   \n",
        "PES S   \n",
        "T6 CT    \n",
        "7 SUR    \n",
        "6 GI    \n",
        "T7 NE    \n",
        "3 OBS"
      ],
      "metadata": {
        "id": "1s2zkHimzx2V"
      }
    },
    {
      "cell_type": "markdown",
      "source": [
        "# Which departments' request took least amount of time to get cancelled after going under progress ?"
      ],
      "metadata": {
        "id": "EnTcxshX3BiW"
      }
    },
    {
      "cell_type": "code",
      "source": [
        "df['Difference_6'] =   df['Cancellation_Time'] - df['InProgress_Time']\n",
        "Difference_6 = df.loc[df['Cancellation_Time'] > 0]\n",
        "Difference_6.groupby('Requesting_Dept')['Difference_6'].max().sort_values(ascending=True)[:10]/3600"
      ],
      "metadata": {
        "colab": {
          "base_uri": "https://localhost:8080/"
        },
        "id": "6eDHv5cS3MQR",
        "outputId": "c1714916-7237-4b24-de2d-12baa637ab28"
      },
      "execution_count": 40,
      "outputs": [
        {
          "output_type": "execute_result",
          "data": {
            "text/plain": [
              "Requesting_Dept\n",
              "3 SPE    18.512222\n",
              "T9 AC    21.198333\n",
              "T7 RE    21.653056\n",
              "KIDNE    21.765000\n",
              "T4 HE    22.363056\n",
              "2 ALC    22.466111\n",
              "5MG M    22.540000\n",
              "T5 CO    22.601389\n",
              "T8 RE    23.021389\n",
              "T8 CO    23.056667\n",
              "Name: Difference_6, dtype: float64"
            ]
          },
          "metadata": {},
          "execution_count": 40
        }
      ]
    },
    {
      "cell_type": "code",
      "source": [
        "Completion_Time =Difference_6.groupby('Requesting_Dept')['Difference_6'].max().sort_values(ascending=True)[:10]/3600\n",
        "\n",
        "fig, ax = plt.subplots(figsize=(15,8))\n",
        "ax.bar(Completion_Time.index, Completion_Time.values)\n",
        "ax.set_title('\\n Top 10 departments to have their requests cancelled quickly after going under progress\\n', fontsize=14, fontweight='bold')\n",
        "ax.set(ylabel='\\nTime')"
      ],
      "metadata": {
        "colab": {
          "base_uri": "https://localhost:8080/",
          "height": 549
        },
        "id": "C4KrexfQ3Q1d",
        "outputId": "31ca0543-f566-43f0-ac1b-7ccbc597efea"
      },
      "execution_count": 41,
      "outputs": [
        {
          "output_type": "execute_result",
          "data": {
            "text/plain": [
              "[Text(0, 0.5, '\\nTime')]"
            ]
          },
          "metadata": {},
          "execution_count": 41
        },
        {
          "output_type": "display_data",
          "data": {
            "text/plain": [
              "<Figure size 1080x576 with 1 Axes>"
            ],
            "image/png": "[encoded data removed]"
          },
          "metadata": {
            "needs_background": "light"
          }
        }
      ]
    },
    {
      "cell_type": "markdown",
      "source": [
        "# 3 SPE had their requests cancelled quite quickly after being postponed."
      ],
      "metadata": {
        "id": "EI75n-mV3U3k"
      }
    },
    {
      "cell_type": "markdown",
      "source": [
        "# Which departments' requests took the longest time to get cancelled after being postponed ?"
      ],
      "metadata": {
        "id": "IeJvPQCh4kHJ"
      }
    },
    {
      "cell_type": "code",
      "source": [
        "df['Difference_7'] =   df['Completion_Time'] - df['Postponed_Time']\n",
        "Difference_7 = df.loc[(df['Difference_7'] >= 0)  & (df['Cancellation_Time'] == 0)]\n",
        "Difference_7.groupby('Requesting_Dept')['Difference_7'].max().sort_values(ascending=False)[:10]/3600"
      ],
      "metadata": {
        "colab": {
          "base_uri": "https://localhost:8080/"
        },
        "id": "QzlFkjik41zP",
        "outputId": "e7ea9f64-cb81-4e00-f8bf-47002661253c"
      },
      "execution_count": 42,
      "outputs": [
        {
          "output_type": "execute_result",
          "data": {
            "text/plain": [
              "Requesting_Dept\n",
              "1 INT    23.999167\n",
              "2 BIR    23.993889\n",
              "T7 NE    23.991389\n",
              "4 MED    23.972778\n",
              "5MG T    23.968333\n",
              "6 GI     23.953611\n",
              "1 EME    23.947778\n",
              "7 SUR    23.944722\n",
              "T5 CO    23.942500\n",
              "PES S    23.932778\n",
              "Name: Difference_7, dtype: float64"
            ]
          },
          "metadata": {},
          "execution_count": 42
        }
      ]
    },
    {
      "cell_type": "markdown",
      "source": [
        "# Lets visualize it "
      ],
      "metadata": {
        "id": "dPnKtmwP49Nh"
      }
    },
    {
      "cell_type": "code",
      "source": [
        "Completion_Time =Difference_7.groupby('Requesting_Dept')['Difference_7'].max().sort_values(ascending=False)[:10]/3600\n",
        "fig, ax = plt.subplots(figsize=(15,8))\n",
        "ax.bar(Completion_Time.index, Completion_Time.values, color='orange')\n",
        "ax.set_title('\\n Departments that took longest time to get cancelled after getting postponed\\n', fontsize=14, fontweight='bold')\n",
        "ax.set(ylabel='\\nTime in minutes')"
      ],
      "metadata": {
        "colab": {
          "base_uri": "https://localhost:8080/",
          "height": 549
        },
        "id": "UGpFE7IF5B83",
        "outputId": "a462eb74-f520-482c-9881-d1298329e039"
      },
      "execution_count": 43,
      "outputs": [
        {
          "output_type": "execute_result",
          "data": {
            "text/plain": [
              "[Text(0, 0.5, '\\nTime in minutes')]"
            ]
          },
          "metadata": {},
          "execution_count": 43
        },
        {
          "output_type": "display_data",
          "data": {
            "text/plain": [
              "<Figure size 1080x576 with 1 Axes>"
            ],
            "image/png": "[encoded data removed]"
          },
          "metadata": {
            "needs_background": "light"
          }
        }
      ]
    },
    {
      "cell_type": "markdown",
      "source": [
        "#### Looks like all these 10 departments had the most delayed cancellations after being postponed\n",
        "\n",
        "1 INT  \n",
        "2 BIR    \n",
        "T7 NE    \n",
        "4 MED   \n",
        "5MG T   \n",
        "6 GI     \n",
        "1 EME    \n",
        "7 SUR    \n",
        "T5 CO    \n",
        "PES S   "
      ],
      "metadata": {
        "id": "RT0qK2BT5W_x"
      }
    },
    {
      "cell_type": "markdown",
      "source": [
        "# Which depeartments made faster cancellations after being postponed ?"
      ],
      "metadata": {
        "id": "pQztnWYv5n-G"
      }
    },
    {
      "cell_type": "code",
      "source": [
        "df['Difference_8'] =   df['Completion_Time'] - df['Postponed_Time']\n",
        "Difference_8 = df.loc[(df['Difference_8'] >= 0)  & (df['Cancellation_Time'] == 0)]\n",
        "Difference_8.groupby('Requesting_Dept')['Difference_8'].max().sort_values(ascending=True)[:10]/3600"
      ],
      "metadata": {
        "colab": {
          "base_uri": "https://localhost:8080/"
        },
        "id": "c0qHFdj9561C",
        "outputId": "0b8c539a-2e38-4074-a261-e735f5587986"
      },
      "execution_count": 44,
      "outputs": [
        {
          "output_type": "execute_result",
          "data": {
            "text/plain": [
              "Requesting_Dept\n",
              "KIDNE    16.530833\n",
              "T10 A    23.123889\n",
              "2 ALC    23.247222\n",
              "T8 RE    23.401944\n",
              "3 SPE    23.631667\n",
              "T9 AC    23.650833\n",
              "T4 HE    23.660278\n",
              "T8 CO    23.734722\n",
              "4BD C    23.794444\n",
              "T4 CH    23.806667\n",
              "Name: Difference_8, dtype: float64"
            ]
          },
          "metadata": {},
          "execution_count": 44
        }
      ]
    },
    {
      "cell_type": "code",
      "source": [
        "Completion_Time =Difference_8.groupby('Requesting_Dept')['Difference_8'].max().sort_values(ascending=True)[:10]/3600\n",
        "# prepare plot\n",
        "fig, ax = plt.subplots(figsize=(15,8))\n",
        "ax.bar(Completion_Time.index, Completion_Time.values, color='purple')\n",
        "ax.set_title('\\nDepartments that made faster cancellations after being postponed\\n', fontsize=14, fontweight='bold')\n",
        "ax.set(ylabel='\\nTime in minutes')"
      ],
      "metadata": {
        "colab": {
          "base_uri": "https://localhost:8080/",
          "height": 549
        },
        "id": "VExiGn7b66AB",
        "outputId": "7fe46301-7b24-49bd-c512-bf29a0c1b0bd"
      },
      "execution_count": 45,
      "outputs": [
        {
          "output_type": "execute_result",
          "data": {
            "text/plain": [
              "[Text(0, 0.5, '\\nTime in minutes')]"
            ]
          },
          "metadata": {},
          "execution_count": 45
        },
        {
          "output_type": "display_data",
          "data": {
            "text/plain": [
              "<Figure size 1080x576 with 1 Axes>"
            ],
            "image/png": "[encoded data removed]"
          },
          "metadata": {
            "needs_background": "light"
          }
        }
      ]
    },
    {
      "cell_type": "markdown",
      "source": [
        "# KIDNE department's requests took least amount of time to make cancellations after gettting postponed"
      ],
      "metadata": {
        "id": "fg4Db35w7NnG"
      }
    },
    {
      "cell_type": "markdown",
      "source": [
        "# Before we jump into modelling, we need to make sure our data is in numeric format. Lets convert the categorical columns into numerical"
      ],
      "metadata": {
        "id": "Z2luPsuhZuTz"
      }
    },
    {
      "cell_type": "code",
      "source": [
        "categorical_cols = ['Transport_Name', 'Requesting_Dept'] \n",
        "   \n",
        "from sklearn.preprocessing import LabelEncoder\n",
        "# instantiate labelencoder object\n",
        "le = LabelEncoder()\n",
        "\n",
        "# apply le on categorical feature columns\n",
        "df[categorical_cols] = df[categorical_cols].apply(lambda col: le.fit_transform(col))    \n"
      ],
      "metadata": {
        "id": "E3cTbUYb_0Ts"
      },
      "execution_count": 46,
      "outputs": []
    },
    {
      "cell_type": "code",
      "source": [
        "df.head()"
      ],
      "metadata": {
        "colab": {
          "base_uri": "https://localhost:8080/",
          "height": 386
        },
        "id": "01UpbOa0VnJ0",
        "outputId": "bf7849f9-352e-45c0-fbe4-ad3dbc9521f8"
      },
      "execution_count": 47,
      "outputs": [
        {
          "output_type": "execute_result",
          "data": {
            "text/plain": [
              "   Transport_Name  Requesting_Dept      Requested_DTTM        Assigned_DTTM  \\\n",
              "0               2                3 2019-01-01 00:02:32                    0   \n",
              "1               2                3 2019-01-01 00:14:40  2019-01-01 00:17:08   \n",
              "2               2                3 2019-01-01 00:28:07  2019-01-01 00:28:07   \n",
              "3               7                0 2019-01-01 03:57:12  2019-01-01 03:57:12   \n",
              "4               2                3 2019-01-01 04:55:02  2019-01-01 06:19:30   \n",
              "\n",
              "     Acknowledged_DTTM      InProgress_DTTM      Completion_DTTM  \\\n",
              "0                    0  2019-01-01 00:02:32  2019-01-01 00:02:36   \n",
              "1  2019-01-01 00:17:11  2019-01-01 00:22:27  2019-01-01 00:23:24   \n",
              "2  2019-01-01 00:28:25  2019-01-01 00:28:33  2019-01-01 00:40:08   \n",
              "3  2019-01-01 03:57:26  2019-01-01 03:59:58  2019-01-01 04:01:44   \n",
              "4  2019-01-01 06:19:46  2019-01-01 06:20:58  2019-01-01 06:33:57   \n",
              "\n",
              "  Cancellation_DTTM Postponed_DTTM  Requested_Time  ...  Completion_Time  \\\n",
              "0                 0              0             152  ...            156.0   \n",
              "1                 0              0             880  ...           1404.0   \n",
              "2                 0              0            1687  ...           2408.0   \n",
              "3                 0              0           14232  ...          14504.0   \n",
              "4                 0              0           17702  ...          23637.0   \n",
              "\n",
              "   Cancellation_Time  Difference_1  Difference_2  Difference_3  Difference_4  \\\n",
              "0                0.0           0.0         152.0           4.0           4.0   \n",
              "1                0.0           3.0         319.0          57.0          57.0   \n",
              "2                0.0          18.0          26.0         695.0         695.0   \n",
              "3                0.0          14.0         166.0         106.0         106.0   \n",
              "4                0.0          16.0          88.0         779.0         779.0   \n",
              "\n",
              "   Difference_5  Difference_6  Difference_7  Difference_8  \n",
              "0        -152.0        -152.0         156.0         156.0  \n",
              "1       -1347.0       -1347.0        1404.0        1404.0  \n",
              "2       -1713.0       -1713.0        2408.0        2408.0  \n",
              "3      -14398.0      -14398.0       14504.0       14504.0  \n",
              "4      -22858.0      -22858.0       23637.0       23637.0  \n",
              "\n",
              "[5 rows x 24 columns]"
            ],
            "text/html": [
              "\n",
              "  <div id=\"df-6f8e0bc3-c5b3-4456-b20d-16667274cbe4\">\n",
              "    <div class=\"colab-df-container\">\n",
              "      <div>\n",
              "<style scoped>\n",
              "    .dataframe tbody tr th:only-of-type {\n",
              "        vertical-align: middle;\n",
              "    }\n",
              "\n",
              "    .dataframe tbody tr th {\n",
              "        vertical-align: top;\n",
              "    }\n",
              "\n",
              "    .dataframe thead th {\n",
              "        text-align: right;\n",
              "    }\n",
              "</style>\n",
              "<table border=\"1\" class=\"dataframe\">\n",
              "  <thead>\n",
              "    <tr style=\"text-align: right;\">\n",
              "      <th></th>\n",
              "      <th>Transport_Name</th>\n",
              "      <th>Requesting_Dept</th>\n",
              "      <th>Requested_DTTM</th>\n",
              "      <th>Assigned_DTTM</th>\n",
              "      <th>Acknowledged_DTTM</th>\n",
              "      <th>InProgress_DTTM</th>\n",
              "      <th>Completion_DTTM</th>\n",
              "      <th>Cancellation_DTTM</th>\n",
              "      <th>Postponed_DTTM</th>\n",
              "      <th>Requested_Time</th>\n",
              "      <th>...</th>\n",
              "      <th>Completion_Time</th>\n",
              "      <th>Cancellation_Time</th>\n",
              "      <th>Difference_1</th>\n",
              "      <th>Difference_2</th>\n",
              "      <th>Difference_3</th>\n",
              "      <th>Difference_4</th>\n",
              "      <th>Difference_5</th>\n",
              "      <th>Difference_6</th>\n",
              "      <th>Difference_7</th>\n",
              "      <th>Difference_8</th>\n",
              "    </tr>\n",
              "  </thead>\n",
              "  <tbody>\n",
              "    <tr>\n",
              "      <th>0</th>\n",
              "      <td>2</td>\n",
              "      <td>3</td>\n",
              "      <td>2019-01-01 00:02:32</td>\n",
              "      <td>0</td>\n",
              "      <td>0</td>\n",
              "      <td>2019-01-01 00:02:32</td>\n",
              "      <td>2019-01-01 00:02:36</td>\n",
              "      <td>0</td>\n",
              "      <td>0</td>\n",
              "      <td>152</td>\n",
              "      <td>...</td>\n",
              "      <td>156.0</td>\n",
              "      <td>0.0</td>\n",
              "      <td>0.0</td>\n",
              "      <td>152.0</td>\n",
              "      <td>4.0</td>\n",
              "      <td>4.0</td>\n",
              "      <td>-152.0</td>\n",
              "      <td>-152.0</td>\n",
              "      <td>156.0</td>\n",
              "      <td>156.0</td>\n",
              "    </tr>\n",
              "    <tr>\n",
              "      <th>1</th>\n",
              "      <td>2</td>\n",
              "      <td>3</td>\n",
              "      <td>2019-01-01 00:14:40</td>\n",
              "      <td>2019-01-01 00:17:08</td>\n",
              "      <td>2019-01-01 00:17:11</td>\n",
              "      <td>2019-01-01 00:22:27</td>\n",
              "      <td>2019-01-01 00:23:24</td>\n",
              "      <td>0</td>\n",
              "      <td>0</td>\n",
              "      <td>880</td>\n",
              "      <td>...</td>\n",
              "      <td>1404.0</td>\n",
              "      <td>0.0</td>\n",
              "      <td>3.0</td>\n",
              "      <td>319.0</td>\n",
              "      <td>57.0</td>\n",
              "      <td>57.0</td>\n",
              "      <td>-1347.0</td>\n",
              "      <td>-1347.0</td>\n",
              "      <td>1404.0</td>\n",
              "      <td>1404.0</td>\n",
              "    </tr>\n",
              "    <tr>\n",
              "      <th>2</th>\n",
              "      <td>2</td>\n",
              "      <td>3</td>\n",
              "      <td>2019-01-01 00:28:07</td>\n",
              "      <td>2019-01-01 00:28:07</td>\n",
              "      <td>2019-01-01 00:28:25</td>\n",
              "      <td>2019-01-01 00:28:33</td>\n",
              "      <td>2019-01-01 00:40:08</td>\n",
              "      <td>0</td>\n",
              "      <td>0</td>\n",
              "      <td>1687</td>\n",
              "      <td>...</td>\n",
              "      <td>2408.0</td>\n",
              "      <td>0.0</td>\n",
              "      <td>18.0</td>\n",
              "      <td>26.0</td>\n",
              "      <td>695.0</td>\n",
              "      <td>695.0</td>\n",
              "      <td>-1713.0</td>\n",
              "      <td>-1713.0</td>\n",
              "      <td>2408.0</td>\n",
              "      <td>2408.0</td>\n",
              "    </tr>\n",
              "    <tr>\n",
              "      <th>3</th>\n",
              "      <td>7</td>\n",
              "      <td>0</td>\n",
              "      <td>2019-01-01 03:57:12</td>\n",
              "      <td>2019-01-01 03:57:12</td>\n",
              "      <td>2019-01-01 03:57:26</td>\n",
              "      <td>2019-01-01 03:59:58</td>\n",
              "      <td>2019-01-01 04:01:44</td>\n",
              "      <td>0</td>\n",
              "      <td>0</td>\n",
              "      <td>14232</td>\n",
              "      <td>...</td>\n",
              "      <td>14504.0</td>\n",
              "      <td>0.0</td>\n",
              "      <td>14.0</td>\n",
              "      <td>166.0</td>\n",
              "      <td>106.0</td>\n",
              "      <td>106.0</td>\n",
              "      <td>-14398.0</td>\n",
              "      <td>-14398.0</td>\n",
              "      <td>14504.0</td>\n",
              "      <td>14504.0</td>\n",
              "    </tr>\n",
              "    <tr>\n",
              "      <th>4</th>\n",
              "      <td>2</td>\n",
              "      <td>3</td>\n",
              "      <td>2019-01-01 04:55:02</td>\n",
              "      <td>2019-01-01 06:19:30</td>\n",
              "      <td>2019-01-01 06:19:46</td>\n",
              "      <td>2019-01-01 06:20:58</td>\n",
              "      <td>2019-01-01 06:33:57</td>\n",
              "      <td>0</td>\n",
              "      <td>0</td>\n",
              "      <td>17702</td>\n",
              "      <td>...</td>\n",
              "      <td>23637.0</td>\n",
              "      <td>0.0</td>\n",
              "      <td>16.0</td>\n",
              "      <td>88.0</td>\n",
              "      <td>779.0</td>\n",
              "      <td>779.0</td>\n",
              "      <td>-22858.0</td>\n",
              "      <td>-22858.0</td>\n",
              "      <td>23637.0</td>\n",
              "      <td>23637.0</td>\n",
              "    </tr>\n",
              "  </tbody>\n",
              "</table>\n",
              "<p>5 rows × 24 columns</p>\n",
              "</div>\n",
              "      <button class=\"colab-df-convert\" onclick=\"convertToInteractive('df-6f8e0bc3-c5b3-4456-b20d-16667274cbe4')\"\n",
              "              title=\"Convert this dataframe to an interactive table.\"\n",
              "              style=\"display:none;\">\n",
              "        \n",
              "  <svg xmlns=\"http://www.w3.org/2000/svg\" height=\"24px\"viewBox=\"0 0 24 24\"\n",
              "       width=\"24px\">\n",
              "    <path d=\"M0 0h24v24H0V0z\" fill=\"none\"/>\n",
              "    <path d=\"M18.56 5.44l.94 2.06.94-2.06 2.06-.94-2.06-.94-.94-2.06-.94 2.06-2.06.94zm-11 1L8.5 8.5l.94-2.06 2.06-.94-2.06-.94L8.5 2.5l-.94 2.06-2.06.94zm10 10l.94 2.06.94-2.06 2.06-.94-2.06-.94-.94-2.06-.94 2.06-2.06.94z\"/><path d=\"M17.41 7.96l-1.37-1.37c-.4-.4-.92-.59-1.43-.59-.52 0-1.04.2-1.43.59L10.3 9.45l-7.72 7.72c-.78.78-.78 2.05 0 2.83L4 21.41c.39.39.9.59 1.41.59.51 0 1.02-.2 1.41-.59l7.78-7.78 2.81-2.81c.8-.78.8-2.07 0-2.86zM5.41 20L4 18.59l7.72-7.72 1.47 1.35L5.41 20z\"/>\n",
              "  </svg>\n",
              "      </button>\n",
              "      \n",
              "  <style>\n",
              "    .colab-df-container {\n",
              "      display:flex;\n",
              "      flex-wrap:wrap;\n",
              "      gap: 12px;\n",
              "    }\n",
              "\n",
              "    .colab-df-convert {\n",
              "      background-color: #E8F0FE;\n",
              "      border: none;\n",
              "      border-radius: 50%;\n",
              "      cursor: pointer;\n",
              "      display: none;\n",
              "      fill: #1967D2;\n",
              "      height: 32px;\n",
              "      padding: 0 0 0 0;\n",
              "      width: 32px;\n",
              "    }\n",
              "\n",
              "    .colab-df-convert:hover {\n",
              "      background-color: #E2EBFA;\n",
              "      box-shadow: 0px 1px 2px rgba(60, 64, 67, 0.3), 0px 1px 3px 1px rgba(60, 64, 67, 0.15);\n",
              "      fill: #174EA6;\n",
              "    }\n",
              "\n",
              "    [theme=dark] .colab-df-convert {\n",
              "      background-color: #3B4455;\n",
              "      fill: #D2E3FC;\n",
              "    }\n",
              "\n",
              "    [theme=dark] .colab-df-convert:hover {\n",
              "      background-color: #434B5C;\n",
              "      box-shadow: 0px 1px 3px 1px rgba(0, 0, 0, 0.15);\n",
              "      filter: drop-shadow(0px 1px 2px rgba(0, 0, 0, 0.3));\n",
              "      fill: #FFFFFF;\n",
              "    }\n",
              "  </style>\n",
              "\n",
              "      <script>\n",
              "        const buttonEl =\n",
              "          document.querySelector('#df-6f8e0bc3-c5b3-4456-b20d-16667274cbe4 button.colab-df-convert');\n",
              "        buttonEl.style.display =\n",
              "          google.colab.kernel.accessAllowed ? 'block' : 'none';\n",
              "\n",
              "        async function convertToInteractive(key) {\n",
              "          const element = document.querySelector('#df-6f8e0bc3-c5b3-4456-b20d-16667274cbe4');\n",
              "          const dataTable =\n",
              "            await google.colab.kernel.invokeFunction('convertToInteractive',\n",
              "                                                     [key], {});\n",
              "          if (!dataTable) return;\n",
              "\n",
              "          const docLinkHtml = 'Like what you see? Visit the ' +\n",
              "            '<a target=\"_blank\" href=https://colab.research.google.com/notebooks/data_table.ipynb>data table notebook</a>'\n",
              "            + ' to learn more about interactive tables.';\n",
              "          element.innerHTML = '';\n",
              "          dataTable['output_type'] = 'display_data';\n",
              "          await google.colab.output.renderOutput(dataTable, element);\n",
              "          const docLink = document.createElement('div');\n",
              "          docLink.innerHTML = docLinkHtml;\n",
              "          element.appendChild(docLink);\n",
              "        }\n",
              "      </script>\n",
              "    </div>\n",
              "  </div>\n",
              "  "
            ]
          },
          "metadata": {},
          "execution_count": 47
        }
      ]
    },
    {
      "cell_type": "markdown",
      "source": [
        "#### Great. Now that we have our data in numeric form, lets create the target variable. We will combine completion and cancellation time inorder to perform binary classification. Our model will then predict whether a given requested item will be cancelled or completed. \n",
        "\n",
        "Our main features that will work as independent variables are the variables that we got through feature engineering as well as the categorical variables we encoded. They are Transport_Name, Requesting_Dept, Requested_Time, Assigned_Time, Acknowledged_Time, InProgress_Time and Postponed_Time \n",
        "\n"
      ],
      "metadata": {
        "id": "hhOfbu4cB7Ac"
      }
    },
    {
      "cell_type": "code",
      "source": [
        "df['Target'] = df['Completion_Time'] + df['Cancellation_Time']\n",
        "#Target represents whether the completed (0) or cancelled (1)\n",
        "for dataset in df:\n",
        "    df.loc[df['Completion_Time'] > 0, 'Target_final'] = 0\n",
        "    df.loc[df['Cancellation_Time'] > 0, 'Target_final'] = 1"
      ],
      "metadata": {
        "id": "CJGS69pDBXnq"
      },
      "execution_count": 48,
      "outputs": []
    },
    {
      "cell_type": "markdown",
      "source": [
        "# Create the data : X and y"
      ],
      "metadata": {
        "id": "hGXyQ7VbB-fC"
      }
    },
    {
      "cell_type": "code",
      "source": [
        "X=df[['Transport_Name','Requesting_Dept','Requested_Time', 'Postponed_Time','Assigned_Time','Acknowledged_Time', 'InProgress_Time']]\n",
        "y=df['Target_final']\n",
        "\n"
      ],
      "metadata": {
        "id": "WiKTk6_VGlz1"
      },
      "execution_count": 49,
      "outputs": []
    },
    {
      "cell_type": "markdown",
      "source": [
        "#Before spliting our data, lets check whether our target variable is balanced or not. In any machine learning classification problem, its very important to make sure that our dataset is balanced in order to avoid any bias in our model."
      ],
      "metadata": {
        "id": "F-31-TLqyBgY"
      }
    },
    {
      "cell_type": "code",
      "source": [
        "f,ax=plt.subplots(1,2,figsize=(20,8))\n",
        "mylabels = [\"Completed\",\"Cancelled\"]\n",
        "df['Target_final'].value_counts().plot.pie(labels = mylabels,explode=[0.05,0],autopct='%1.1f%%',ax=ax[0],shadow=True)\n",
        "ax[0].set_title('Status')\n",
        "ax[0].set_ylabel('')\n",
        "sns.countplot('Target_final',order = df['Target_final'].value_counts().index, data=df,ax=ax[1])\n",
        "ax[1].set_title('Status')\n",
        "plt.show()"
      ],
      "metadata": {
        "colab": {
          "base_uri": "https://localhost:8080/",
          "height": 514
        },
        "id": "QlX_vMnAyJ9g",
        "outputId": "e771fee0-b65c-4146-ed20-5710c15a0159"
      },
      "execution_count": 50,
      "outputs": [
        {
          "output_type": "display_data",
          "data": {
            "text/plain": [
              "<Figure size 1440x576 with 2 Axes>"
            ],
            "image/png": "[encoded data removed]"
          },
          "metadata": {
            "needs_background": "light"
          }
        }
      ]
    },
    {
      "cell_type": "markdown",
      "source": [
        "### Over here, we can see that our target classes are highly imbalanced. Therefore, our model will overfit and favour the majority class while evaluating it on our test and unseen data. In order to overcome this problem, we should undersample the majority class so that we can create a generalised model"
      ],
      "metadata": {
        "id": "-MVtNj0LyX1K"
      }
    },
    {
      "cell_type": "code",
      "source": [
        "from imblearn.under_sampling import RandomUnderSampler\n",
        "from collections import Counter\n",
        "\n",
        "sampling_strategy = 0.8\n",
        "rus = RandomUnderSampler(sampling_strategy=sampling_strategy)\n",
        "X_res, y_res = rus.fit_resample(X, y)\n",
        "ax = y_res.value_counts().plot.pie(autopct='%.2f')\n",
        "_ = ax.set_title(\"Under-sampling\")\n",
        "\n",
        "counter = Counter(y)\n",
        "print('Before',counter)\n",
        "\n",
        "counter = Counter(y_res)\n",
        "print('After',counter)"
      ],
      "metadata": {
        "colab": {
          "base_uri": "https://localhost:8080/",
          "height": 299
        },
        "id": "s90FfMyTf6_Z",
        "outputId": "6d7cabe6-cfea-4736-9976-63010c9471ff"
      },
      "execution_count": 51,
      "outputs": [
        {
          "output_type": "stream",
          "name": "stdout",
          "text": [
            "Before Counter({0.0: 19697, 1.0: 1466})\n",
            "After Counter({0.0: 1832, 1.0: 1466})\n"
          ]
        },
        {
          "output_type": "display_data",
          "data": {
            "text/plain": [
              "<Figure size 432x288 with 1 Axes>"
            ],
            "image/png": "[encoded data removed]"
          },
          "metadata": {}
        }
      ]
    },
    {
      "cell_type": "markdown",
      "source": [
        "# We can see that our dataset is balanced. Now lets split our data"
      ],
      "metadata": {
        "id": "xHRdwJNLzUv4"
      }
    },
    {
      "cell_type": "markdown",
      "source": [
        "# Spliting the data"
      ],
      "metadata": {
        "id": "vbqQ8qfA7N3A"
      }
    },
    {
      "cell_type": "code",
      "source": [
        "X_train, X_test, y_train, y_test = train_test_split(X_res, y_res, test_size=0.2, random_state=101)\n",
        "print(\"Training Dataset\", X_train.shape, y_train.shape)\n",
        "print(\"Text Dataset\",X_test.shape, y_test.shape )"
      ],
      "metadata": {
        "colab": {
          "base_uri": "https://localhost:8080/"
        },
        "id": "jZCyB4mmsTnn",
        "outputId": "6f0f5dca-6787-4f07-c7d4-a976883a679f"
      },
      "execution_count": 52,
      "outputs": [
        {
          "output_type": "stream",
          "name": "stdout",
          "text": [
            "Training Dataset (2638, 7) (2638,)\n",
            "Text Dataset (660, 7) (660,)\n"
          ]
        }
      ]
    },
    {
      "cell_type": "markdown",
      "source": [
        "# Standardisation - this is the most important step before we start training our model. We need to make sure that our data is standardised."
      ],
      "metadata": {
        "id": "8rK2ElrE121Z"
      }
    },
    {
      "cell_type": "code",
      "source": [
        "from sklearn.preprocessing import StandardScaler\n",
        "scaler = StandardScaler()\n",
        "X_train_scaled = scaler.fit_transform(X_train)\n",
        "X_test_scaled = scaler.transform(X_test)"
      ],
      "metadata": {
        "id": "Nl-4gKmP3OFK"
      },
      "execution_count": 53,
      "outputs": []
    },
    {
      "cell_type": "markdown",
      "source": [
        "# Model building"
      ],
      "metadata": {
        "id": "7Al59D8Vx2XG"
      }
    },
    {
      "cell_type": "markdown",
      "source": [
        "# Lets start with the best baseline model for training. As we proceed and use other algorithms, we shall beat the accuracy of the baseline model"
      ],
      "metadata": {
        "id": "E5rhNquEz8eq"
      }
    },
    {
      "cell_type": "code",
      "source": [
        "# Logistic Regression\n",
        "from sklearn.linear_model import LogisticRegression\n",
        "lr = LogisticRegression()\n",
        "lr.fit(X_train_scaled,y_train)"
      ],
      "metadata": {
        "colab": {
          "base_uri": "https://localhost:8080/"
        },
        "id": "knoK9ZU_1WvP",
        "outputId": "416c06a1-c948-460b-976b-8860e8370ceb"
      },
      "execution_count": 54,
      "outputs": [
        {
          "output_type": "execute_result",
          "data": {
            "text/plain": [
              "LogisticRegression()"
            ]
          },
          "metadata": {},
          "execution_count": 54
        }
      ]
    },
    {
      "cell_type": "code",
      "source": [
        "# Make predictions\n",
        "y_pred = lr.predict(X_test_scaled)"
      ],
      "metadata": {
        "id": "mLqUfB8e1m5m"
      },
      "execution_count": 55,
      "outputs": []
    },
    {
      "cell_type": "code",
      "source": [
        "print(accuracy_score(y_test, y_pred))"
      ],
      "metadata": {
        "colab": {
          "base_uri": "https://localhost:8080/"
        },
        "id": "6nrkZo841tFG",
        "outputId": "f1653ed0-106b-412a-9671-1d3073612ddd"
      },
      "execution_count": 56,
      "outputs": [
        {
          "output_type": "stream",
          "name": "stdout",
          "text": [
            "0.9681818181818181\n"
          ]
        }
      ]
    },
    {
      "cell_type": "markdown",
      "source": [
        "### We are getting 95% accuracy through our baseline model. "
      ],
      "metadata": {
        "id": "7oAS0lz30J6c"
      }
    },
    {
      "cell_type": "markdown",
      "source": [
        "# Lets see the classification report"
      ],
      "metadata": {
        "id": "vPIQrfKI5AUw"
      }
    },
    {
      "cell_type": "code",
      "source": [
        "print('Classificaiton Report of results')\n",
        "print(classification_report(y_test,y_pred))"
      ],
      "metadata": {
        "colab": {
          "base_uri": "https://localhost:8080/"
        },
        "id": "6FDBfYXE7ZaI",
        "outputId": "ee072abe-9c86-4171-a9ee-cca4cf2e793d"
      },
      "execution_count": 57,
      "outputs": [
        {
          "output_type": "stream",
          "name": "stdout",
          "text": [
            "Classificaiton Report of results\n",
            "              precision    recall  f1-score   support\n",
            "\n",
            "         0.0       0.97      0.98      0.97       379\n",
            "         1.0       0.97      0.96      0.96       281\n",
            "\n",
            "    accuracy                           0.97       660\n",
            "   macro avg       0.97      0.97      0.97       660\n",
            "weighted avg       0.97      0.97      0.97       660\n",
            "\n"
          ]
        }
      ]
    },
    {
      "cell_type": "markdown",
      "source": [
        "# Lets plot confusion matrix to understand the relationship between the actual and predicted classes."
      ],
      "metadata": {
        "id": "4nRkxKot7cuN"
      }
    },
    {
      "cell_type": "code",
      "source": [
        "from sklearn.metrics import plot_confusion_matrix\n",
        "\n",
        "displr = plot_confusion_matrix(lr, X_test_scaled, y_test ,cmap=plt.cm.OrRd , values_format='d')"
      ],
      "metadata": {
        "colab": {
          "base_uri": "https://localhost:8080/",
          "height": 279
        },
        "id": "kyELfEi48Qz2",
        "outputId": "7d316660-2bf9-4909-bb8a-3d39e2ece5bc"
      },
      "execution_count": 58,
      "outputs": [
        {
          "output_type": "display_data",
          "data": {
            "text/plain": [
              "<Figure size 432x288 with 2 Axes>"
            ],
            "image/png": "[encoded data removed]"
          },
          "metadata": {
            "needs_background": "light"
          }
        }
      ]
    },
    {
      "cell_type": "markdown",
      "source": [
        "#Lets try Random Forest Classifier"
      ],
      "metadata": {
        "id": "VJ7TZUTA0UJx"
      }
    },
    {
      "cell_type": "code",
      "source": [
        "#Running Model object\n",
        "rf=RandomForestClassifier()\n",
        "\n",
        "#Train Model with data\n",
        "rf.fit(X_train_scaled,y_train)\n",
        "\n",
        "#Run Model to predict accident Severity\n",
        "y_pred_rf= rf.predict(X_test_scaled)\n"
      ],
      "metadata": {
        "id": "jTqQxajUY--K"
      },
      "execution_count": 59,
      "outputs": []
    },
    {
      "cell_type": "code",
      "source": [
        "# Get the accuracy score\n",
        "print(accuracy_score(y_test, y_pred_rf))"
      ],
      "metadata": {
        "colab": {
          "base_uri": "https://localhost:8080/"
        },
        "id": "gVK1D7lgCNX6",
        "outputId": "bb99494c-6f10-42e6-9a50-7215184d4682"
      },
      "execution_count": 60,
      "outputs": [
        {
          "output_type": "stream",
          "name": "stdout",
          "text": [
            "0.9848484848484849\n"
          ]
        }
      ]
    },
    {
      "cell_type": "markdown",
      "source": [
        "### Our accuracy with Random Forest is 98% "
      ],
      "metadata": {
        "id": "GKerqKMQ02lt"
      }
    },
    {
      "cell_type": "markdown",
      "source": [
        "# Classification report"
      ],
      "metadata": {
        "id": "w8-6myEzCz2s"
      }
    },
    {
      "cell_type": "code",
      "source": [
        "print(classification_report(y_test,y_pred_rf))"
      ],
      "metadata": {
        "colab": {
          "base_uri": "https://localhost:8080/"
        },
        "id": "ukR0yX5QC3rY",
        "outputId": "2cba4fab-48be-4e3a-acca-6481614f66cd"
      },
      "execution_count": 61,
      "outputs": [
        {
          "output_type": "stream",
          "name": "stdout",
          "text": [
            "              precision    recall  f1-score   support\n",
            "\n",
            "         0.0       0.98      0.99      0.99       379\n",
            "         1.0       0.99      0.98      0.98       281\n",
            "\n",
            "    accuracy                           0.98       660\n",
            "   macro avg       0.99      0.98      0.98       660\n",
            "weighted avg       0.98      0.98      0.98       660\n",
            "\n"
          ]
        }
      ]
    },
    {
      "cell_type": "code",
      "source": [
        "# Confusion matrix\n",
        "con_matrix = plot_confusion_matrix(rf, X_test_scaled, y_test ,cmap=plt.cm.OrRd , values_format='d')"
      ],
      "metadata": {
        "colab": {
          "base_uri": "https://localhost:8080/",
          "height": 279
        },
        "id": "jve3kKH8E8xF",
        "outputId": "9b79f0e5-1b4e-4b4a-9941-aea9f75777d0"
      },
      "execution_count": 62,
      "outputs": [
        {
          "output_type": "display_data",
          "data": {
            "text/plain": [
              "<Figure size 432x288 with 2 Axes>"
            ],
            "image/png": "[encoded data removed]"
          },
          "metadata": {
            "needs_background": "light"
          }
        }
      ]
    },
    {
      "cell_type": "markdown",
      "source": [
        "# Looking at our confusion matrix we can tell that our model is having 13 false negatives. "
      ],
      "metadata": {
        "id": "6xHriNEUFEV7"
      }
    },
    {
      "cell_type": "markdown",
      "source": [
        "# If we get the most important features of our dataset, we will know what features affect our model the most."
      ],
      "metadata": {
        "id": "7FpwOKaSFiNr"
      }
    },
    {
      "cell_type": "code",
      "source": [
        "feature = pd.DataFrame(index = X.columns, data = rf.feature_importances_,\n",
        "                              columns = [\"Feature Importance\"]).sort_values(\"Feature Importance\", ascending = False)\n",
        "feature"
      ],
      "metadata": {
        "colab": {
          "base_uri": "https://localhost:8080/",
          "height": 269
        },
        "id": "F_PXoVfHHlI8",
        "outputId": "826dfe5a-3624-46ea-def9-e5b70f2c99e7"
      },
      "execution_count": 63,
      "outputs": [
        {
          "output_type": "execute_result",
          "data": {
            "text/plain": [
              "                   Feature Importance\n",
              "InProgress_Time              0.673339\n",
              "Acknowledged_Time            0.151543\n",
              "Assigned_Time                0.118214\n",
              "Requested_Time               0.022169\n",
              "Postponed_Time               0.014873\n",
              "Transport_Name               0.010525\n",
              "Requesting_Dept              0.009337"
            ],
            "text/html": [
              "\n",
              "  <div id=\"df-be14e3e6-cbb8-4787-a2a6-371ab0ca091f\">\n",
              "    <div class=\"colab-df-container\">\n",
              "      <div>\n",
              "<style scoped>\n",
              "    .dataframe tbody tr th:only-of-type {\n",
              "        vertical-align: middle;\n",
              "    }\n",
              "\n",
              "    .dataframe tbody tr th {\n",
              "        vertical-align: top;\n",
              "    }\n",
              "\n",
              "    .dataframe thead th {\n",
              "        text-align: right;\n",
              "    }\n",
              "</style>\n",
              "<table border=\"1\" class=\"dataframe\">\n",
              "  <thead>\n",
              "    <tr style=\"text-align: right;\">\n",
              "      <th></th>\n",
              "      <th>Feature Importance</th>\n",
              "    </tr>\n",
              "  </thead>\n",
              "  <tbody>\n",
              "    <tr>\n",
              "      <th>InProgress_Time</th>\n",
              "      <td>0.673339</td>\n",
              "    </tr>\n",
              "    <tr>\n",
              "      <th>Acknowledged_Time</th>\n",
              "      <td>0.151543</td>\n",
              "    </tr>\n",
              "    <tr>\n",
              "      <th>Assigned_Time</th>\n",
              "      <td>0.118214</td>\n",
              "    </tr>\n",
              "    <tr>\n",
              "      <th>Requested_Time</th>\n",
              "      <td>0.022169</td>\n",
              "    </tr>\n",
              "    <tr>\n",
              "      <th>Postponed_Time</th>\n",
              "      <td>0.014873</td>\n",
              "    </tr>\n",
              "    <tr>\n",
              "      <th>Transport_Name</th>\n",
              "      <td>0.010525</td>\n",
              "    </tr>\n",
              "    <tr>\n",
              "      <th>Requesting_Dept</th>\n",
              "      <td>0.009337</td>\n",
              "    </tr>\n",
              "  </tbody>\n",
              "</table>\n",
              "</div>\n",
              "      <button class=\"colab-df-convert\" onclick=\"convertToInteractive('df-be14e3e6-cbb8-4787-a2a6-371ab0ca091f')\"\n",
              "              title=\"Convert this dataframe to an interactive table.\"\n",
              "              style=\"display:none;\">\n",
              "        \n",
              "  <svg xmlns=\"http://www.w3.org/2000/svg\" height=\"24px\"viewBox=\"0 0 24 24\"\n",
              "       width=\"24px\">\n",
              "    <path d=\"M0 0h24v24H0V0z\" fill=\"none\"/>\n",
              "    <path d=\"M18.56 5.44l.94 2.06.94-2.06 2.06-.94-2.06-.94-.94-2.06-.94 2.06-2.06.94zm-11 1L8.5 8.5l.94-2.06 2.06-.94-2.06-.94L8.5 2.5l-.94 2.06-2.06.94zm10 10l.94 2.06.94-2.06 2.06-.94-2.06-.94-.94-2.06-.94 2.06-2.06.94z\"/><path d=\"M17.41 7.96l-1.37-1.37c-.4-.4-.92-.59-1.43-.59-.52 0-1.04.2-1.43.59L10.3 9.45l-7.72 7.72c-.78.78-.78 2.05 0 2.83L4 21.41c.39.39.9.59 1.41.59.51 0 1.02-.2 1.41-.59l7.78-7.78 2.81-2.81c.8-.78.8-2.07 0-2.86zM5.41 20L4 18.59l7.72-7.72 1.47 1.35L5.41 20z\"/>\n",
              "  </svg>\n",
              "      </button>\n",
              "      \n",
              "  <style>\n",
              "    .colab-df-container {\n",
              "      display:flex;\n",
              "      flex-wrap:wrap;\n",
              "      gap: 12px;\n",
              "    }\n",
              "\n",
              "    .colab-df-convert {\n",
              "      background-color: #E8F0FE;\n",
              "      border: none;\n",
              "      border-radius: 50%;\n",
              "      cursor: pointer;\n",
              "      display: none;\n",
              "      fill: #1967D2;\n",
              "      height: 32px;\n",
              "      padding: 0 0 0 0;\n",
              "      width: 32px;\n",
              "    }\n",
              "\n",
              "    .colab-df-convert:hover {\n",
              "      background-color: #E2EBFA;\n",
              "      box-shadow: 0px 1px 2px rgba(60, 64, 67, 0.3), 0px 1px 3px 1px rgba(60, 64, 67, 0.15);\n",
              "      fill: #174EA6;\n",
              "    }\n",
              "\n",
              "    [theme=dark] .colab-df-convert {\n",
              "      background-color: #3B4455;\n",
              "      fill: #D2E3FC;\n",
              "    }\n",
              "\n",
              "    [theme=dark] .colab-df-convert:hover {\n",
              "      background-color: #434B5C;\n",
              "      box-shadow: 0px 1px 3px 1px rgba(0, 0, 0, 0.15);\n",
              "      filter: drop-shadow(0px 1px 2px rgba(0, 0, 0, 0.3));\n",
              "      fill: #FFFFFF;\n",
              "    }\n",
              "  </style>\n",
              "\n",
              "      <script>\n",
              "        const buttonEl =\n",
              "          document.querySelector('#df-be14e3e6-cbb8-4787-a2a6-371ab0ca091f button.colab-df-convert');\n",
              "        buttonEl.style.display =\n",
              "          google.colab.kernel.accessAllowed ? 'block' : 'none';\n",
              "\n",
              "        async function convertToInteractive(key) {\n",
              "          const element = document.querySelector('#df-be14e3e6-cbb8-4787-a2a6-371ab0ca091f');\n",
              "          const dataTable =\n",
              "            await google.colab.kernel.invokeFunction('convertToInteractive',\n",
              "                                                     [key], {});\n",
              "          if (!dataTable) return;\n",
              "\n",
              "          const docLinkHtml = 'Like what you see? Visit the ' +\n",
              "            '<a target=\"_blank\" href=https://colab.research.google.com/notebooks/data_table.ipynb>data table notebook</a>'\n",
              "            + ' to learn more about interactive tables.';\n",
              "          element.innerHTML = '';\n",
              "          dataTable['output_type'] = 'display_data';\n",
              "          await google.colab.output.renderOutput(dataTable, element);\n",
              "          const docLink = document.createElement('div');\n",
              "          docLink.innerHTML = docLinkHtml;\n",
              "          element.appendChild(docLink);\n",
              "        }\n",
              "      </script>\n",
              "    </div>\n",
              "  </div>\n",
              "  "
            ]
          },
          "metadata": {},
          "execution_count": 63
        }
      ]
    },
    {
      "cell_type": "markdown",
      "source": [
        "# Lets plot them"
      ],
      "metadata": {
        "id": "HrsJST8jH0_R"
      }
    },
    {
      "cell_type": "code",
      "source": [
        "feature_imp = pd.Series(rf.feature_importances_,index=X.columns).sort_values(ascending=False)\n",
        "# Creating a bar plot, displaying only the top k features\n",
        "k=10\n",
        "sns.barplot(x=feature_imp[:10], y=feature_imp.index[:k])\n",
        "# Add labels to your graph\n",
        "plt.xlabel('Feature Importance Score')\n",
        "plt.ylabel('Features')\n",
        "plt.title(\"Visualizing Important Features\")\n",
        "plt.legend()\n",
        "plt.show()"
      ],
      "metadata": {
        "colab": {
          "base_uri": "https://localhost:8080/",
          "height": 313
        },
        "id": "dZY9KJRhH6DZ",
        "outputId": "dfef5775-4a42-4afc-cc74-b3fbe85b7a3b"
      },
      "execution_count": 64,
      "outputs": [
        {
          "output_type": "stream",
          "name": "stderr",
          "text": [
            "No handles with labels found to put in legend.\n"
          ]
        },
        {
          "output_type": "display_data",
          "data": {
            "text/plain": [
              "<Figure size 432x288 with 1 Axes>"
            ],
            "image/png": "[encoded data removed]"
          },
          "metadata": {
            "needs_background": "light"
          }
        }
      ]
    },
    {
      "cell_type": "markdown",
      "source": [
        "# Using feature importance"
      ],
      "metadata": {
        "id": "_6dwTu3h232E"
      }
    },
    {
      "cell_type": "markdown",
      "source": [
        "### Removing the columns with less scores and training our random forest on the best features. Next, we will repeat few steps we did earlier in the notebook and rebuild our random forest classifier."
      ],
      "metadata": {
        "id": "XdbcYWWV51OJ"
      }
    },
    {
      "cell_type": "code",
      "source": [
        "X=df[['Assigned_Time','Acknowledged_Time', 'InProgress_Time']]\n",
        "y=df['Target_final']\n",
        "\n"
      ],
      "metadata": {
        "id": "j8yECmuQ3U9_"
      },
      "execution_count": 65,
      "outputs": []
    },
    {
      "cell_type": "code",
      "source": [
        "from imblearn.under_sampling import RandomUnderSampler\n",
        "from collections import Counter\n",
        "\n",
        "sampling_strategy = 0.8\n",
        "rus = RandomUnderSampler(sampling_strategy=sampling_strategy)\n",
        "X_res, y_res = rus.fit_resample(X, y)\n",
        "ax = y_res.value_counts().plot.pie(autopct='%.2f')\n",
        "_ = ax.set_title(\"Under-sampling\")\n",
        "\n",
        "counter = Counter(y)\n",
        "print('Before',counter)\n",
        "\n",
        "counter = Counter(y_res)\n",
        "print('After',counter)"
      ],
      "metadata": {
        "colab": {
          "base_uri": "https://localhost:8080/",
          "height": 299
        },
        "id": "9F-RW1yR4NZh",
        "outputId": "117922c2-84e7-4c31-ab44-40d634ef1883"
      },
      "execution_count": 66,
      "outputs": [
        {
          "output_type": "stream",
          "name": "stdout",
          "text": [
            "Before Counter({0.0: 19697, 1.0: 1466})\n",
            "After Counter({0.0: 1832, 1.0: 1466})\n"
          ]
        },
        {
          "output_type": "display_data",
          "data": {
            "text/plain": [
              "<Figure size 432x288 with 1 Axes>"
            ],
            "image/png": "[encoded data removed]"
          },
          "metadata": {}
        }
      ]
    },
    {
      "cell_type": "code",
      "source": [
        "#Split the data\n",
        "X_train, X_test, y_train, y_test = train_test_split(X_res, y_res, test_size=0.2, random_state=101)\n",
        "print(\"Training Dataset\", X_train.shape, y_train.shape)\n",
        "print(\"Text Dataset\",X_test.shape, y_test.shape )"
      ],
      "metadata": {
        "colab": {
          "base_uri": "https://localhost:8080/"
        },
        "id": "Ku3GNmfu4Wlw",
        "outputId": "91840053-4621-4292-9d1e-2c35eebe94c4"
      },
      "execution_count": 67,
      "outputs": [
        {
          "output_type": "stream",
          "name": "stdout",
          "text": [
            "Training Dataset (2638, 3) (2638,)\n",
            "Text Dataset (660, 3) (660,)\n"
          ]
        }
      ]
    },
    {
      "cell_type": "code",
      "source": [
        "#Standardise the data\n",
        "from sklearn.preprocessing import StandardScaler\n",
        "scaler = StandardScaler()\n",
        "X_train_scaled = scaler.fit_transform(X_train)\n",
        "X_test_scaled = scaler.transform(X_test)"
      ],
      "metadata": {
        "id": "nDMg72Oa4s8C"
      },
      "execution_count": 68,
      "outputs": []
    },
    {
      "cell_type": "code",
      "source": [
        "#Running Model object\n",
        "rf=RandomForestClassifier()\n",
        "\n",
        "#Train Model with data\n",
        "rf.fit(X_train_scaled,y_train)\n",
        "\n",
        "#Run Model to predict accident Severity\n",
        "y_pred_rf= rf.predict(X_test_scaled)\n"
      ],
      "metadata": {
        "id": "sRfDZ7n64tZO"
      },
      "execution_count": 69,
      "outputs": []
    },
    {
      "cell_type": "code",
      "source": [
        "# Get the accuracy score\n",
        "print(accuracy_score(y_test, y_pred_rf))"
      ],
      "metadata": {
        "colab": {
          "base_uri": "https://localhost:8080/"
        },
        "id": "zPFLkb-j6QKO",
        "outputId": "eb055ae0-ff00-4d80-826c-5b7b48a945e1"
      },
      "execution_count": 70,
      "outputs": [
        {
          "output_type": "stream",
          "name": "stdout",
          "text": [
            "0.9893939393939394\n"
          ]
        }
      ]
    },
    {
      "cell_type": "markdown",
      "source": [
        "# We get 98% accuracy after using the best features of our dataset"
      ],
      "metadata": {
        "id": "CGHpscp46R-R"
      }
    },
    {
      "cell_type": "markdown",
      "source": [
        "# Lets try to improve our model by using cross validation. This way, we can make sure that we are using every possible combination of our dataset and finding the best accuracy."
      ],
      "metadata": {
        "id": "_dE9FHys6CI6"
      }
    },
    {
      "cell_type": "markdown",
      "source": [
        "# Applying cross validation "
      ],
      "metadata": {
        "id": "-gMz5zvEH7da"
      }
    },
    {
      "cell_type": "code",
      "source": [
        "from sklearn.model_selection import RepeatedStratifiedKFold, KFold, cross_val_predict, train_test_split, GridSearchCV, cross_val_score, cross_validate\n",
        "rf_xvalid_model = RandomForestClassifier(max_depth=None, random_state=101)\n",
        "\n",
        "rf_xvalid_model_scores = cross_validate(rf_xvalid_model, X_train_scaled, y_train, scoring = [\"accuracy\", \"precision\", \"recall\", \"f1\"], cv = 10)\n",
        "rf_xvalid_model_scores = pd.DataFrame(rf_xvalid_model_scores, index = range(1, 11))\n",
        "\n",
        "rf_xvalid_model_scores"
      ],
      "metadata": {
        "colab": {
          "base_uri": "https://localhost:8080/",
          "height": 363
        },
        "id": "cO4rM-IEIFa1",
        "outputId": "0e948381-e223-4f2d-c2d4-b5a358faba2d"
      },
      "execution_count": 71,
      "outputs": [
        {
          "output_type": "execute_result",
          "data": {
            "text/plain": [
              "    fit_time  score_time  test_accuracy  test_precision  test_recall   test_f1\n",
              "1   0.728314    0.079811       0.958333        0.965517     0.941176  0.953191\n",
              "2   0.670967    0.046246       0.950758        0.964912     0.924370  0.944206\n",
              "3   0.583407    0.044121       0.962121        0.990991     0.924370  0.956522\n",
              "4   0.702122    0.059530       0.988636        1.000000     0.974790  0.987234\n",
              "5   1.066926    0.117897       0.988636        1.000000     0.974790  0.987234\n",
              "6   0.593080    0.045448       0.977273        0.991228     0.957627  0.974138\n",
              "7   0.683593    0.040954       0.977273        1.000000     0.949153  0.973913\n",
              "8   0.527758    0.046815       0.984848        1.000000     0.966102  0.982759\n",
              "9   0.542339    0.041283       0.980989        0.982906     0.974576  0.978723\n",
              "10  0.626456    0.084731       0.973384        0.991150     0.949153  0.969697"
            ],
            "text/html": [
              "\n",
              "  <div id=\"df-bcd7cc99-885b-4566-a7ce-19cdef834527\">\n",
              "    <div class=\"colab-df-container\">\n",
              "      <div>\n",
              "<style scoped>\n",
              "    .dataframe tbody tr th:only-of-type {\n",
              "        vertical-align: middle;\n",
              "    }\n",
              "\n",
              "    .dataframe tbody tr th {\n",
              "        vertical-align: top;\n",
              "    }\n",
              "\n",
              "    .dataframe thead th {\n",
              "        text-align: right;\n",
              "    }\n",
              "</style>\n",
              "<table border=\"1\" class=\"dataframe\">\n",
              "  <thead>\n",
              "    <tr style=\"text-align: right;\">\n",
              "      <th></th>\n",
              "      <th>fit_time</th>\n",
              "      <th>score_time</th>\n",
              "      <th>test_accuracy</th>\n",
              "      <th>test_precision</th>\n",
              "      <th>test_recall</th>\n",
              "      <th>test_f1</th>\n",
              "    </tr>\n",
              "  </thead>\n",
              "  <tbody>\n",
              "    <tr>\n",
              "      <th>1</th>\n",
              "      <td>0.728314</td>\n",
              "      <td>0.079811</td>\n",
              "      <td>0.958333</td>\n",
              "      <td>0.965517</td>\n",
              "      <td>0.941176</td>\n",
              "      <td>0.953191</td>\n",
              "    </tr>\n",
              "    <tr>\n",
              "      <th>2</th>\n",
              "      <td>0.670967</td>\n",
              "      <td>0.046246</td>\n",
              "      <td>0.950758</td>\n",
              "      <td>0.964912</td>\n",
              "      <td>0.924370</td>\n",
              "      <td>0.944206</td>\n",
              "    </tr>\n",
              "    <tr>\n",
              "      <th>3</th>\n",
              "      <td>0.583407</td>\n",
              "      <td>0.044121</td>\n",
              "      <td>0.962121</td>\n",
              "      <td>0.990991</td>\n",
              "      <td>0.924370</td>\n",
              "      <td>0.956522</td>\n",
              "    </tr>\n",
              "    <tr>\n",
              "      <th>4</th>\n",
              "      <td>0.702122</td>\n",
              "      <td>0.059530</td>\n",
              "      <td>0.988636</td>\n",
              "      <td>1.000000</td>\n",
              "      <td>0.974790</td>\n",
              "      <td>0.987234</td>\n",
              "    </tr>\n",
              "    <tr>\n",
              "      <th>5</th>\n",
              "      <td>1.066926</td>\n",
              "      <td>0.117897</td>\n",
              "      <td>0.988636</td>\n",
              "      <td>1.000000</td>\n",
              "      <td>0.974790</td>\n",
              "      <td>0.987234</td>\n",
              "    </tr>\n",
              "    <tr>\n",
              "      <th>6</th>\n",
              "      <td>0.593080</td>\n",
              "      <td>0.045448</td>\n",
              "      <td>0.977273</td>\n",
              "      <td>0.991228</td>\n",
              "      <td>0.957627</td>\n",
              "      <td>0.974138</td>\n",
              "    </tr>\n",
              "    <tr>\n",
              "      <th>7</th>\n",
              "      <td>0.683593</td>\n",
              "      <td>0.040954</td>\n",
              "      <td>0.977273</td>\n",
              "      <td>1.000000</td>\n",
              "      <td>0.949153</td>\n",
              "      <td>0.973913</td>\n",
              "    </tr>\n",
              "    <tr>\n",
              "      <th>8</th>\n",
              "      <td>0.527758</td>\n",
              "      <td>0.046815</td>\n",
              "      <td>0.984848</td>\n",
              "      <td>1.000000</td>\n",
              "      <td>0.966102</td>\n",
              "      <td>0.982759</td>\n",
              "    </tr>\n",
              "    <tr>\n",
              "      <th>9</th>\n",
              "      <td>0.542339</td>\n",
              "      <td>0.041283</td>\n",
              "      <td>0.980989</td>\n",
              "      <td>0.982906</td>\n",
              "      <td>0.974576</td>\n",
              "      <td>0.978723</td>\n",
              "    </tr>\n",
              "    <tr>\n",
              "      <th>10</th>\n",
              "      <td>0.626456</td>\n",
              "      <td>0.084731</td>\n",
              "      <td>0.973384</td>\n",
              "      <td>0.991150</td>\n",
              "      <td>0.949153</td>\n",
              "      <td>0.969697</td>\n",
              "    </tr>\n",
              "  </tbody>\n",
              "</table>\n",
              "</div>\n",
              "      <button class=\"colab-df-convert\" onclick=\"convertToInteractive('df-bcd7cc99-885b-4566-a7ce-19cdef834527')\"\n",
              "              title=\"Convert this dataframe to an interactive table.\"\n",
              "              style=\"display:none;\">\n",
              "        \n",
              "  <svg xmlns=\"http://www.w3.org/2000/svg\" height=\"24px\"viewBox=\"0 0 24 24\"\n",
              "       width=\"24px\">\n",
              "    <path d=\"M0 0h24v24H0V0z\" fill=\"none\"/>\n",
              "    <path d=\"M18.56 5.44l.94 2.06.94-2.06 2.06-.94-2.06-.94-.94-2.06-.94 2.06-2.06.94zm-11 1L8.5 8.5l.94-2.06 2.06-.94-2.06-.94L8.5 2.5l-.94 2.06-2.06.94zm10 10l.94 2.06.94-2.06 2.06-.94-2.06-.94-.94-2.06-.94 2.06-2.06.94z\"/><path d=\"M17.41 7.96l-1.37-1.37c-.4-.4-.92-.59-1.43-.59-.52 0-1.04.2-1.43.59L10.3 9.45l-7.72 7.72c-.78.78-.78 2.05 0 2.83L4 21.41c.39.39.9.59 1.41.59.51 0 1.02-.2 1.41-.59l7.78-7.78 2.81-2.81c.8-.78.8-2.07 0-2.86zM5.41 20L4 18.59l7.72-7.72 1.47 1.35L5.41 20z\"/>\n",
              "  </svg>\n",
              "      </button>\n",
              "      \n",
              "  <style>\n",
              "    .colab-df-container {\n",
              "      display:flex;\n",
              "      flex-wrap:wrap;\n",
              "      gap: 12px;\n",
              "    }\n",
              "\n",
              "    .colab-df-convert {\n",
              "      background-color: #E8F0FE;\n",
              "      border: none;\n",
              "      border-radius: 50%;\n",
              "      cursor: pointer;\n",
              "      display: none;\n",
              "      fill: #1967D2;\n",
              "      height: 32px;\n",
              "      padding: 0 0 0 0;\n",
              "      width: 32px;\n",
              "    }\n",
              "\n",
              "    .colab-df-convert:hover {\n",
              "      background-color: #E2EBFA;\n",
              "      box-shadow: 0px 1px 2px rgba(60, 64, 67, 0.3), 0px 1px 3px 1px rgba(60, 64, 67, 0.15);\n",
              "      fill: #174EA6;\n",
              "    }\n",
              "\n",
              "    [theme=dark] .colab-df-convert {\n",
              "      background-color: #3B4455;\n",
              "      fill: #D2E3FC;\n",
              "    }\n",
              "\n",
              "    [theme=dark] .colab-df-convert:hover {\n",
              "      background-color: #434B5C;\n",
              "      box-shadow: 0px 1px 3px 1px rgba(0, 0, 0, 0.15);\n",
              "      filter: drop-shadow(0px 1px 2px rgba(0, 0, 0, 0.3));\n",
              "      fill: #FFFFFF;\n",
              "    }\n",
              "  </style>\n",
              "\n",
              "      <script>\n",
              "        const buttonEl =\n",
              "          document.querySelector('#df-bcd7cc99-885b-4566-a7ce-19cdef834527 button.colab-df-convert');\n",
              "        buttonEl.style.display =\n",
              "          google.colab.kernel.accessAllowed ? 'block' : 'none';\n",
              "\n",
              "        async function convertToInteractive(key) {\n",
              "          const element = document.querySelector('#df-bcd7cc99-885b-4566-a7ce-19cdef834527');\n",
              "          const dataTable =\n",
              "            await google.colab.kernel.invokeFunction('convertToInteractive',\n",
              "                                                     [key], {});\n",
              "          if (!dataTable) return;\n",
              "\n",
              "          const docLinkHtml = 'Like what you see? Visit the ' +\n",
              "            '<a target=\"_blank\" href=https://colab.research.google.com/notebooks/data_table.ipynb>data table notebook</a>'\n",
              "            + ' to learn more about interactive tables.';\n",
              "          element.innerHTML = '';\n",
              "          dataTable['output_type'] = 'display_data';\n",
              "          await google.colab.output.renderOutput(dataTable, element);\n",
              "          const docLink = document.createElement('div');\n",
              "          docLink.innerHTML = docLinkHtml;\n",
              "          element.appendChild(docLink);\n",
              "        }\n",
              "      </script>\n",
              "    </div>\n",
              "  </div>\n",
              "  "
            ]
          },
          "metadata": {},
          "execution_count": 71
        }
      ]
    },
    {
      "cell_type": "code",
      "source": [
        "rf_xvalid_model_scores.mean()[2:]"
      ],
      "metadata": {
        "colab": {
          "base_uri": "https://localhost:8080/"
        },
        "id": "dQSCu94FPD-u",
        "outputId": "b0abb3b8-87e8-4952-dd6e-a2ef31fcc536"
      },
      "execution_count": 72,
      "outputs": [
        {
          "output_type": "execute_result",
          "data": {
            "text/plain": [
              "test_accuracy     0.974225\n",
              "test_precision    0.988671\n",
              "test_recall       0.953611\n",
              "test_f1           0.970762\n",
              "dtype: float64"
            ]
          },
          "metadata": {},
          "execution_count": 72
        }
      ]
    },
    {
      "cell_type": "markdown",
      "source": [
        "# After applying cross-validation , our final accuracy is 97%"
      ],
      "metadata": {
        "id": "bvM9Oi9wPQRM"
      }
    },
    {
      "cell_type": "markdown",
      "source": [
        "# Awesome! We have successfully cleaned our data, visualized it , found the pattern in our data. We also build different classifiers and got the best accuracy of our model"
      ],
      "metadata": {
        "id": "lkhRon7JPqJG"
      }
    },
    {
      "cell_type": "code",
      "source": [
        ""
      ],
      "metadata": {
        "id": "4KYyCXQp7AXb"
      },
      "execution_count": 72,
      "outputs": []
    }
  ]
}